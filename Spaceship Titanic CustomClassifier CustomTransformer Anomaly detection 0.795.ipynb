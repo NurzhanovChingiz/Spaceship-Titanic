{
 "cells": [
  {
   "cell_type": "markdown",
   "id": "3deac1c1",
   "metadata": {
    "ExecuteTime": {
     "end_time": "2022-06-14T14:20:14.337834Z",
     "start_time": "2022-06-14T14:20:14.335292Z"
    }
   },
   "source": [
    "# Libraries"
   ]
  },
  {
   "cell_type": "code",
   "execution_count": 1,
   "id": "8a808389",
   "metadata": {
    "ExecuteTime": {
     "end_time": "2022-06-15T10:34:02.390508Z",
     "start_time": "2022-06-15T10:33:59.875040Z"
    }
   },
   "outputs": [],
   "source": [
    "import pandas as pd\n",
    "import numpy as np\n",
    "import matplotlib.pyplot as plt\n",
    "%matplotlib inline\n",
    "import seaborn as sns\n",
    "\n",
    "import re\n",
    "from collections import Counter\n",
    "# Data split\n",
    "from sklearn.model_selection import StratifiedKFold\n",
    "\n",
    "# Preprocessing\n",
    "import missingno as msno\n",
    "from sklearn.impute import SimpleImputer\n",
    "from sklearn.preprocessing import OneHotEncoder, StandardScaler, RobustScaler\n",
    "\n",
    "\n",
    "# Custom Transformer\n",
    "from sklearn.base import BaseEstimator, TransformerMixin\n",
    "from sklearn.utils.validation import check_X_y, check_array, check_is_fitted\n",
    "from sklearn_pandas import DataFrameMapper\n",
    "from sklearn.impute import SimpleImputer\n",
    "from feature_engine.encoding import RareLabelEncoder\n",
    "from sklearn.experimental import enable_iterative_imputer\n",
    "from sklearn.impute import IterativeImputer\n",
    "\n",
    "# Custom Classifier\n",
    "from imblearn import FunctionSampler\n",
    "from sklearn.experimental import enable_halving_search_cv\n",
    "from sklearn.base import BaseEstimator, ClassifierMixin\n",
    "from sklearn.utils.validation import check_array, check_is_fitted\n",
    "from imblearn.pipeline import Pipeline\n",
    "from sklearn.model_selection import HalvingGridSearchCV\n",
    "from imblearn.over_sampling import SMOTE\n",
    "from sklearn.feature_selection import SelectPercentile, f_classif\n",
    "from feature_engine.selection import DropCorrelatedFeatures\n",
    "from sklearn.ensemble import BaggingClassifier\n",
    "\n",
    "# Pipeline\n",
    "from imblearn.pipeline import Pipeline\n",
    "\n",
    "# Metrics \n",
    "from sklearn.metrics import brier_score_loss, roc_curve, precision_recall_curve \n",
    "from sklearn.metrics import balanced_accuracy_score, accuracy_score, confusion_matrix, classification_report\n",
    "\n",
    "# Feature Enginering\n",
    "from sklearn.inspection import permutation_importance\n",
    "import shap\n",
    "\n",
    "from lightgbm import LGBMClassifier\n",
    "from sklearn.ensemble import BaggingClassifier"
   ]
  },
  {
   "cell_type": "code",
   "execution_count": 2,
   "id": "c4956e69",
   "metadata": {
    "ExecuteTime": {
     "end_time": "2022-06-15T10:34:02.395111Z",
     "start_time": "2022-06-15T10:34:02.391528Z"
    }
   },
   "outputs": [],
   "source": [
    "from sklearn import set_config\n",
    "set_config(display=\"diagram\")\n",
    "import warnings\n",
    "warnings.filterwarnings(\"ignore\", category=FutureWarning)\n",
    "from sklearn.exceptions import FitFailedWarning\n",
    "warnings.filterwarnings(action='ignore', category=FitFailedWarning)\n",
    "warnings.filterwarnings(action='ignore', category=UserWarning)"
   ]
  },
  {
   "cell_type": "markdown",
   "id": "3c7043eb",
   "metadata": {},
   "source": [
    "# Exploratory Data Analysis(EDA)\n",
    "\n",
    "- Analysis of the features.\n",
    "\n",
    "- Finding any relations or trends considering multiple features."
   ]
  },
  {
   "cell_type": "markdown",
   "id": "72e8183d",
   "metadata": {},
   "source": [
    "RoomService, FoodCourt, ShoppingMall, Spa, VRDeckRoomService, FoodCourt, ShoppingMall, Spa, VRDeckRoomService, FoodCourt, ShoppingMall, Spa, VRDeck## train.csv - Personal records for about two-thirds (~8700) of the passengers, to be used as training data.\n",
    "- PassengerId - A unique Id for each passenger. Each Id takes the form gggg_pp where gggg indicates a group the passenger is travelling with and pp is their number within the group. People in a group are often family members, but not always.\n",
    "- HomePlanet - The planet the passenger departed from, typically their planet of permanent residence.\n",
    "- CryoSleep - Indicates whether the passenger elected to be put into suspended animation for the duration of the voyage. Passengers in cryosleep are confined to their cabins.\n",
    "- Cabin - The cabin number where the passenger is staying. Takes the form deck/num/side, where side can be either P for Port or S for Starboard.\n",
    "Destination - The planet the passenger will be debarking to.\n",
    "- Age - The age of the passenger.\n",
    "- VIP - Whether the passenger has paid for special VIP service during the voyage.\n",
    "RoomService, FoodCourt, ShoppingMall, Spa, VRDeck - Amount the passenger has billed at each of the Spaceship Titanic's many luxury amenities.\n",
    "- Name - The first and last names of the passenger.\n",
    "Transported - Whether the passenger was transported to another dimension. This is the target, the column you are trying to predict."
   ]
  },
  {
   "cell_type": "code",
   "execution_count": 3,
   "id": "0dbbb0ff",
   "metadata": {
    "ExecuteTime": {
     "end_time": "2022-06-15T10:34:02.426727Z",
     "start_time": "2022-06-15T10:34:02.397147Z"
    },
    "run_control": {
     "marked": true
    }
   },
   "outputs": [],
   "source": [
    "df = pd.read_csv('train.csv')\n",
    "test = pd.read_csv('test.csv')"
   ]
  },
  {
   "cell_type": "code",
   "execution_count": 4,
   "id": "d2d8abbd",
   "metadata": {
    "ExecuteTime": {
     "end_time": "2022-06-15T10:34:02.519013Z",
     "start_time": "2022-06-15T10:34:02.428255Z"
    },
    "scrolled": false
   },
   "outputs": [
    {
     "data": {
      "text/plain": [
       "Text(0.5, 1.0, 'Transported')"
      ]
     },
     "execution_count": 4,
     "metadata": {},
     "output_type": "execute_result"
    },
    {
     "data": {
      "image/png": "[encoded data removed]",
      "text/plain": [
       "<Figure size 432x432 with 1 Axes>"
      ]
     },
     "metadata": {},
     "output_type": "display_data"
    }
   ],
   "source": [
    "plt.figure(figsize=(6,6))\n",
    "df.Transported.value_counts().plot.pie(explode=[0.1,0.1], autopct='%1.1f%%', shadow=True, textprops={'fontsize':16}).set_title(\"Transported\")"
   ]
  },
  {
   "cell_type": "code",
   "execution_count": 5,
   "id": "89ea6b68",
   "metadata": {
    "ExecuteTime": {
     "end_time": "2022-06-15T10:34:02.534288Z",
     "start_time": "2022-06-15T10:34:02.520546Z"
    }
   },
   "outputs": [
    {
     "data": {
      "text/html": [
       "<div>\n",
       "<style scoped>\n",
       "    .dataframe tbody tr th:only-of-type {\n",
       "        vertical-align: middle;\n",
       "    }\n",
       "\n",
       "    .dataframe tbody tr th {\n",
       "        vertical-align: top;\n",
       "    }\n",
       "\n",
       "    .dataframe thead th {\n",
       "        text-align: right;\n",
       "    }\n",
       "</style>\n",
       "<table border=\"1\" class=\"dataframe\">\n",
       "  <thead>\n",
       "    <tr style=\"text-align: right;\">\n",
       "      <th></th>\n",
       "      <th>PassengerId</th>\n",
       "      <th>HomePlanet</th>\n",
       "      <th>CryoSleep</th>\n",
       "      <th>Cabin</th>\n",
       "      <th>Destination</th>\n",
       "      <th>Age</th>\n",
       "      <th>VIP</th>\n",
       "      <th>RoomService</th>\n",
       "      <th>FoodCourt</th>\n",
       "      <th>ShoppingMall</th>\n",
       "      <th>Spa</th>\n",
       "      <th>VRDeck</th>\n",
       "      <th>Name</th>\n",
       "      <th>Transported</th>\n",
       "    </tr>\n",
       "  </thead>\n",
       "  <tbody>\n",
       "    <tr>\n",
       "      <th>0</th>\n",
       "      <td>0001_01</td>\n",
       "      <td>Europa</td>\n",
       "      <td>False</td>\n",
       "      <td>B/0/P</td>\n",
       "      <td>TRAPPIST-1e</td>\n",
       "      <td>39.0</td>\n",
       "      <td>False</td>\n",
       "      <td>0.0</td>\n",
       "      <td>0.0</td>\n",
       "      <td>0.0</td>\n",
       "      <td>0.0</td>\n",
       "      <td>0.0</td>\n",
       "      <td>Maham Ofracculy</td>\n",
       "      <td>False</td>\n",
       "    </tr>\n",
       "    <tr>\n",
       "      <th>1</th>\n",
       "      <td>0002_01</td>\n",
       "      <td>Earth</td>\n",
       "      <td>False</td>\n",
       "      <td>F/0/S</td>\n",
       "      <td>TRAPPIST-1e</td>\n",
       "      <td>24.0</td>\n",
       "      <td>False</td>\n",
       "      <td>109.0</td>\n",
       "      <td>9.0</td>\n",
       "      <td>25.0</td>\n",
       "      <td>549.0</td>\n",
       "      <td>44.0</td>\n",
       "      <td>Juanna Vines</td>\n",
       "      <td>True</td>\n",
       "    </tr>\n",
       "    <tr>\n",
       "      <th>2</th>\n",
       "      <td>0003_01</td>\n",
       "      <td>Europa</td>\n",
       "      <td>False</td>\n",
       "      <td>A/0/S</td>\n",
       "      <td>TRAPPIST-1e</td>\n",
       "      <td>58.0</td>\n",
       "      <td>True</td>\n",
       "      <td>43.0</td>\n",
       "      <td>3576.0</td>\n",
       "      <td>0.0</td>\n",
       "      <td>6715.0</td>\n",
       "      <td>49.0</td>\n",
       "      <td>Altark Susent</td>\n",
       "      <td>False</td>\n",
       "    </tr>\n",
       "    <tr>\n",
       "      <th>3</th>\n",
       "      <td>0003_02</td>\n",
       "      <td>Europa</td>\n",
       "      <td>False</td>\n",
       "      <td>A/0/S</td>\n",
       "      <td>TRAPPIST-1e</td>\n",
       "      <td>33.0</td>\n",
       "      <td>False</td>\n",
       "      <td>0.0</td>\n",
       "      <td>1283.0</td>\n",
       "      <td>371.0</td>\n",
       "      <td>3329.0</td>\n",
       "      <td>193.0</td>\n",
       "      <td>Solam Susent</td>\n",
       "      <td>False</td>\n",
       "    </tr>\n",
       "    <tr>\n",
       "      <th>4</th>\n",
       "      <td>0004_01</td>\n",
       "      <td>Earth</td>\n",
       "      <td>False</td>\n",
       "      <td>F/1/S</td>\n",
       "      <td>TRAPPIST-1e</td>\n",
       "      <td>16.0</td>\n",
       "      <td>False</td>\n",
       "      <td>303.0</td>\n",
       "      <td>70.0</td>\n",
       "      <td>151.0</td>\n",
       "      <td>565.0</td>\n",
       "      <td>2.0</td>\n",
       "      <td>Willy Santantines</td>\n",
       "      <td>True</td>\n",
       "    </tr>\n",
       "  </tbody>\n",
       "</table>\n",
       "</div>"
      ],
      "text/plain": [
       "  PassengerId HomePlanet CryoSleep  Cabin  Destination   Age    VIP  \\\n",
       "0     0001_01     Europa     False  B/0/P  TRAPPIST-1e  39.0  False   \n",
       "1     0002_01      Earth     False  F/0/S  TRAPPIST-1e  24.0  False   \n",
       "2     0003_01     Europa     False  A/0/S  TRAPPIST-1e  58.0   True   \n",
       "3     0003_02     Europa     False  A/0/S  TRAPPIST-1e  33.0  False   \n",
       "4     0004_01      Earth     False  F/1/S  TRAPPIST-1e  16.0  False   \n",
       "\n",
       "   RoomService  FoodCourt  ShoppingMall     Spa  VRDeck               Name  \\\n",
       "0          0.0        0.0           0.0     0.0     0.0    Maham Ofracculy   \n",
       "1        109.0        9.0          25.0   549.0    44.0       Juanna Vines   \n",
       "2         43.0     3576.0           0.0  6715.0    49.0      Altark Susent   \n",
       "3          0.0     1283.0         371.0  3329.0   193.0       Solam Susent   \n",
       "4        303.0       70.0         151.0   565.0     2.0  Willy Santantines   \n",
       "\n",
       "   Transported  \n",
       "0        False  \n",
       "1         True  \n",
       "2        False  \n",
       "3        False  \n",
       "4         True  "
      ]
     },
     "execution_count": 5,
     "metadata": {},
     "output_type": "execute_result"
    }
   ],
   "source": [
    "df.head()"
   ]
  },
  {
   "cell_type": "code",
   "execution_count": 6,
   "id": "19649c4f",
   "metadata": {
    "ExecuteTime": {
     "end_time": "2022-06-15T10:34:02.547570Z",
     "start_time": "2022-06-15T10:34:02.535307Z"
    }
   },
   "outputs": [
    {
     "data": {
      "text/html": [
       "<div>\n",
       "<style scoped>\n",
       "    .dataframe tbody tr th:only-of-type {\n",
       "        vertical-align: middle;\n",
       "    }\n",
       "\n",
       "    .dataframe tbody tr th {\n",
       "        vertical-align: top;\n",
       "    }\n",
       "\n",
       "    .dataframe thead th {\n",
       "        text-align: right;\n",
       "    }\n",
       "</style>\n",
       "<table border=\"1\" class=\"dataframe\">\n",
       "  <thead>\n",
       "    <tr style=\"text-align: right;\">\n",
       "      <th></th>\n",
       "      <th>PassengerId</th>\n",
       "      <th>HomePlanet</th>\n",
       "      <th>CryoSleep</th>\n",
       "      <th>Cabin</th>\n",
       "      <th>Destination</th>\n",
       "      <th>Age</th>\n",
       "      <th>VIP</th>\n",
       "      <th>RoomService</th>\n",
       "      <th>FoodCourt</th>\n",
       "      <th>ShoppingMall</th>\n",
       "      <th>Spa</th>\n",
       "      <th>VRDeck</th>\n",
       "      <th>Name</th>\n",
       "      <th>Transported</th>\n",
       "    </tr>\n",
       "  </thead>\n",
       "  <tbody>\n",
       "    <tr>\n",
       "      <th>8688</th>\n",
       "      <td>9276_01</td>\n",
       "      <td>Europa</td>\n",
       "      <td>False</td>\n",
       "      <td>A/98/P</td>\n",
       "      <td>55 Cancri e</td>\n",
       "      <td>41.0</td>\n",
       "      <td>True</td>\n",
       "      <td>0.0</td>\n",
       "      <td>6819.0</td>\n",
       "      <td>0.0</td>\n",
       "      <td>1643.0</td>\n",
       "      <td>74.0</td>\n",
       "      <td>Gravior Noxnuther</td>\n",
       "      <td>False</td>\n",
       "    </tr>\n",
       "    <tr>\n",
       "      <th>8689</th>\n",
       "      <td>9278_01</td>\n",
       "      <td>Earth</td>\n",
       "      <td>True</td>\n",
       "      <td>G/1499/S</td>\n",
       "      <td>PSO J318.5-22</td>\n",
       "      <td>18.0</td>\n",
       "      <td>False</td>\n",
       "      <td>0.0</td>\n",
       "      <td>0.0</td>\n",
       "      <td>0.0</td>\n",
       "      <td>0.0</td>\n",
       "      <td>0.0</td>\n",
       "      <td>Kurta Mondalley</td>\n",
       "      <td>False</td>\n",
       "    </tr>\n",
       "    <tr>\n",
       "      <th>8690</th>\n",
       "      <td>9279_01</td>\n",
       "      <td>Earth</td>\n",
       "      <td>False</td>\n",
       "      <td>G/1500/S</td>\n",
       "      <td>TRAPPIST-1e</td>\n",
       "      <td>26.0</td>\n",
       "      <td>False</td>\n",
       "      <td>0.0</td>\n",
       "      <td>0.0</td>\n",
       "      <td>1872.0</td>\n",
       "      <td>1.0</td>\n",
       "      <td>0.0</td>\n",
       "      <td>Fayey Connon</td>\n",
       "      <td>True</td>\n",
       "    </tr>\n",
       "    <tr>\n",
       "      <th>8691</th>\n",
       "      <td>9280_01</td>\n",
       "      <td>Europa</td>\n",
       "      <td>False</td>\n",
       "      <td>E/608/S</td>\n",
       "      <td>55 Cancri e</td>\n",
       "      <td>32.0</td>\n",
       "      <td>False</td>\n",
       "      <td>0.0</td>\n",
       "      <td>1049.0</td>\n",
       "      <td>0.0</td>\n",
       "      <td>353.0</td>\n",
       "      <td>3235.0</td>\n",
       "      <td>Celeon Hontichre</td>\n",
       "      <td>False</td>\n",
       "    </tr>\n",
       "    <tr>\n",
       "      <th>8692</th>\n",
       "      <td>9280_02</td>\n",
       "      <td>Europa</td>\n",
       "      <td>False</td>\n",
       "      <td>E/608/S</td>\n",
       "      <td>TRAPPIST-1e</td>\n",
       "      <td>44.0</td>\n",
       "      <td>False</td>\n",
       "      <td>126.0</td>\n",
       "      <td>4688.0</td>\n",
       "      <td>0.0</td>\n",
       "      <td>0.0</td>\n",
       "      <td>12.0</td>\n",
       "      <td>Propsh Hontichre</td>\n",
       "      <td>True</td>\n",
       "    </tr>\n",
       "  </tbody>\n",
       "</table>\n",
       "</div>"
      ],
      "text/plain": [
       "     PassengerId HomePlanet CryoSleep     Cabin    Destination   Age    VIP  \\\n",
       "8688     9276_01     Europa     False    A/98/P    55 Cancri e  41.0   True   \n",
       "8689     9278_01      Earth      True  G/1499/S  PSO J318.5-22  18.0  False   \n",
       "8690     9279_01      Earth     False  G/1500/S    TRAPPIST-1e  26.0  False   \n",
       "8691     9280_01     Europa     False   E/608/S    55 Cancri e  32.0  False   \n",
       "8692     9280_02     Europa     False   E/608/S    TRAPPIST-1e  44.0  False   \n",
       "\n",
       "      RoomService  FoodCourt  ShoppingMall     Spa  VRDeck               Name  \\\n",
       "8688          0.0     6819.0           0.0  1643.0    74.0  Gravior Noxnuther   \n",
       "8689          0.0        0.0           0.0     0.0     0.0    Kurta Mondalley   \n",
       "8690          0.0        0.0        1872.0     1.0     0.0       Fayey Connon   \n",
       "8691          0.0     1049.0           0.0   353.0  3235.0   Celeon Hontichre   \n",
       "8692        126.0     4688.0           0.0     0.0    12.0   Propsh Hontichre   \n",
       "\n",
       "      Transported  \n",
       "8688        False  \n",
       "8689        False  \n",
       "8690         True  \n",
       "8691        False  \n",
       "8692         True  "
      ]
     },
     "execution_count": 6,
     "metadata": {},
     "output_type": "execute_result"
    }
   ],
   "source": [
    "df.tail()"
   ]
  },
  {
   "cell_type": "code",
   "execution_count": 7,
   "id": "03748db6",
   "metadata": {
    "ExecuteTime": {
     "end_time": "2022-06-15T10:34:02.579652Z",
     "start_time": "2022-06-15T10:34:02.549608Z"
    }
   },
   "outputs": [
    {
     "data": {
      "text/html": [
       "<table><tr> <td><div>\n",
       "<style scoped>\n",
       "    .dataframe tbody tr th:only-of-type {\n",
       "        vertical-align: middle;\n",
       "    }\n",
       "\n",
       "    .dataframe tbody tr th {\n",
       "        vertical-align: top;\n",
       "    }\n",
       "\n",
       "    .dataframe thead th {\n",
       "        text-align: right;\n",
       "    }\n",
       "</style>\n",
       "<table border=\"1\" class=\"dataframe\">\n",
       "  <thead>\n",
       "    <tr style=\"text-align: right;\">\n",
       "      <th></th>\n",
       "      <th>PassengerId</th>\n",
       "    </tr>\n",
       "  </thead>\n",
       "  <tbody>\n",
       "    <tr>\n",
       "      <th>0001_01</th>\n",
       "      <td>1</td>\n",
       "    </tr>\n",
       "    <tr>\n",
       "      <th>6136_01</th>\n",
       "      <td>1</td>\n",
       "    </tr>\n",
       "    <tr>\n",
       "      <th>6141_01</th>\n",
       "      <td>1</td>\n",
       "    </tr>\n",
       "    <tr>\n",
       "      <th>6139_06</th>\n",
       "      <td>1</td>\n",
       "    </tr>\n",
       "    <tr>\n",
       "      <th>6139_05</th>\n",
       "      <td>1</td>\n",
       "    </tr>\n",
       "    <tr>\n",
       "      <th>...</th>\n",
       "      <td>...</td>\n",
       "    </tr>\n",
       "    <tr>\n",
       "      <th>3126_01</th>\n",
       "      <td>1</td>\n",
       "    </tr>\n",
       "    <tr>\n",
       "      <th>3124_03</th>\n",
       "      <td>1</td>\n",
       "    </tr>\n",
       "    <tr>\n",
       "      <th>3124_02</th>\n",
       "      <td>1</td>\n",
       "    </tr>\n",
       "    <tr>\n",
       "      <th>3124_01</th>\n",
       "      <td>1</td>\n",
       "    </tr>\n",
       "    <tr>\n",
       "      <th>9280_02</th>\n",
       "      <td>1</td>\n",
       "    </tr>\n",
       "  </tbody>\n",
       "</table>\n",
       "<p>8693 rows × 1 columns</p>\n",
       "</div></td><td><div>\n",
       "<style scoped>\n",
       "    .dataframe tbody tr th:only-of-type {\n",
       "        vertical-align: middle;\n",
       "    }\n",
       "\n",
       "    .dataframe tbody tr th {\n",
       "        vertical-align: top;\n",
       "    }\n",
       "\n",
       "    .dataframe thead th {\n",
       "        text-align: right;\n",
       "    }\n",
       "</style>\n",
       "<table border=\"1\" class=\"dataframe\">\n",
       "  <thead>\n",
       "    <tr style=\"text-align: right;\">\n",
       "      <th></th>\n",
       "      <th>HomePlanet</th>\n",
       "    </tr>\n",
       "  </thead>\n",
       "  <tbody>\n",
       "    <tr>\n",
       "      <th>Earth</th>\n",
       "      <td>4602</td>\n",
       "    </tr>\n",
       "    <tr>\n",
       "      <th>Europa</th>\n",
       "      <td>2131</td>\n",
       "    </tr>\n",
       "    <tr>\n",
       "      <th>Mars</th>\n",
       "      <td>1759</td>\n",
       "    </tr>\n",
       "  </tbody>\n",
       "</table>\n",
       "</div></td><td><div>\n",
       "<style scoped>\n",
       "    .dataframe tbody tr th:only-of-type {\n",
       "        vertical-align: middle;\n",
       "    }\n",
       "\n",
       "    .dataframe tbody tr th {\n",
       "        vertical-align: top;\n",
       "    }\n",
       "\n",
       "    .dataframe thead th {\n",
       "        text-align: right;\n",
       "    }\n",
       "</style>\n",
       "<table border=\"1\" class=\"dataframe\">\n",
       "  <thead>\n",
       "    <tr style=\"text-align: right;\">\n",
       "      <th></th>\n",
       "      <th>CryoSleep</th>\n",
       "    </tr>\n",
       "  </thead>\n",
       "  <tbody>\n",
       "    <tr>\n",
       "      <th>False</th>\n",
       "      <td>5439</td>\n",
       "    </tr>\n",
       "    <tr>\n",
       "      <th>True</th>\n",
       "      <td>3037</td>\n",
       "    </tr>\n",
       "  </tbody>\n",
       "</table>\n",
       "</div></td><td><div>\n",
       "<style scoped>\n",
       "    .dataframe tbody tr th:only-of-type {\n",
       "        vertical-align: middle;\n",
       "    }\n",
       "\n",
       "    .dataframe tbody tr th {\n",
       "        vertical-align: top;\n",
       "    }\n",
       "\n",
       "    .dataframe thead th {\n",
       "        text-align: right;\n",
       "    }\n",
       "</style>\n",
       "<table border=\"1\" class=\"dataframe\">\n",
       "  <thead>\n",
       "    <tr style=\"text-align: right;\">\n",
       "      <th></th>\n",
       "      <th>Cabin</th>\n",
       "    </tr>\n",
       "  </thead>\n",
       "  <tbody>\n",
       "    <tr>\n",
       "      <th>G/734/S</th>\n",
       "      <td>8</td>\n",
       "    </tr>\n",
       "    <tr>\n",
       "      <th>G/109/P</th>\n",
       "      <td>7</td>\n",
       "    </tr>\n",
       "    <tr>\n",
       "      <th>B/201/P</th>\n",
       "      <td>7</td>\n",
       "    </tr>\n",
       "    <tr>\n",
       "      <th>G/1368/P</th>\n",
       "      <td>7</td>\n",
       "    </tr>\n",
       "    <tr>\n",
       "      <th>G/981/S</th>\n",
       "      <td>7</td>\n",
       "    </tr>\n",
       "    <tr>\n",
       "      <th>...</th>\n",
       "      <td>...</td>\n",
       "    </tr>\n",
       "    <tr>\n",
       "      <th>G/556/P</th>\n",
       "      <td>1</td>\n",
       "    </tr>\n",
       "    <tr>\n",
       "      <th>E/231/S</th>\n",
       "      <td>1</td>\n",
       "    </tr>\n",
       "    <tr>\n",
       "      <th>G/545/S</th>\n",
       "      <td>1</td>\n",
       "    </tr>\n",
       "    <tr>\n",
       "      <th>G/543/S</th>\n",
       "      <td>1</td>\n",
       "    </tr>\n",
       "    <tr>\n",
       "      <th>F/947/P</th>\n",
       "      <td>1</td>\n",
       "    </tr>\n",
       "  </tbody>\n",
       "</table>\n",
       "<p>6560 rows × 1 columns</p>\n",
       "</div></td><td><div>\n",
       "<style scoped>\n",
       "    .dataframe tbody tr th:only-of-type {\n",
       "        vertical-align: middle;\n",
       "    }\n",
       "\n",
       "    .dataframe tbody tr th {\n",
       "        vertical-align: top;\n",
       "    }\n",
       "\n",
       "    .dataframe thead th {\n",
       "        text-align: right;\n",
       "    }\n",
       "</style>\n",
       "<table border=\"1\" class=\"dataframe\">\n",
       "  <thead>\n",
       "    <tr style=\"text-align: right;\">\n",
       "      <th></th>\n",
       "      <th>Destination</th>\n",
       "    </tr>\n",
       "  </thead>\n",
       "  <tbody>\n",
       "    <tr>\n",
       "      <th>TRAPPIST-1e</th>\n",
       "      <td>5915</td>\n",
       "    </tr>\n",
       "    <tr>\n",
       "      <th>55 Cancri e</th>\n",
       "      <td>1800</td>\n",
       "    </tr>\n",
       "    <tr>\n",
       "      <th>PSO J318.5-22</th>\n",
       "      <td>796</td>\n",
       "    </tr>\n",
       "  </tbody>\n",
       "</table>\n",
       "</div></td><td><div>\n",
       "<style scoped>\n",
       "    .dataframe tbody tr th:only-of-type {\n",
       "        vertical-align: middle;\n",
       "    }\n",
       "\n",
       "    .dataframe tbody tr th {\n",
       "        vertical-align: top;\n",
       "    }\n",
       "\n",
       "    .dataframe thead th {\n",
       "        text-align: right;\n",
       "    }\n",
       "</style>\n",
       "<table border=\"1\" class=\"dataframe\">\n",
       "  <thead>\n",
       "    <tr style=\"text-align: right;\">\n",
       "      <th></th>\n",
       "      <th>Age</th>\n",
       "    </tr>\n",
       "  </thead>\n",
       "  <tbody>\n",
       "    <tr>\n",
       "      <th>24.0</th>\n",
       "      <td>324</td>\n",
       "    </tr>\n",
       "    <tr>\n",
       "      <th>18.0</th>\n",
       "      <td>320</td>\n",
       "    </tr>\n",
       "    <tr>\n",
       "      <th>21.0</th>\n",
       "      <td>311</td>\n",
       "    </tr>\n",
       "    <tr>\n",
       "      <th>19.0</th>\n",
       "      <td>293</td>\n",
       "    </tr>\n",
       "    <tr>\n",
       "      <th>23.0</th>\n",
       "      <td>292</td>\n",
       "    </tr>\n",
       "    <tr>\n",
       "      <th>...</th>\n",
       "      <td>...</td>\n",
       "    </tr>\n",
       "    <tr>\n",
       "      <th>72.0</th>\n",
       "      <td>4</td>\n",
       "    </tr>\n",
       "    <tr>\n",
       "      <th>78.0</th>\n",
       "      <td>3</td>\n",
       "    </tr>\n",
       "    <tr>\n",
       "      <th>79.0</th>\n",
       "      <td>3</td>\n",
       "    </tr>\n",
       "    <tr>\n",
       "      <th>76.0</th>\n",
       "      <td>2</td>\n",
       "    </tr>\n",
       "    <tr>\n",
       "      <th>77.0</th>\n",
       "      <td>2</td>\n",
       "    </tr>\n",
       "  </tbody>\n",
       "</table>\n",
       "<p>80 rows × 1 columns</p>\n",
       "</div></td><td><div>\n",
       "<style scoped>\n",
       "    .dataframe tbody tr th:only-of-type {\n",
       "        vertical-align: middle;\n",
       "    }\n",
       "\n",
       "    .dataframe tbody tr th {\n",
       "        vertical-align: top;\n",
       "    }\n",
       "\n",
       "    .dataframe thead th {\n",
       "        text-align: right;\n",
       "    }\n",
       "</style>\n",
       "<table border=\"1\" class=\"dataframe\">\n",
       "  <thead>\n",
       "    <tr style=\"text-align: right;\">\n",
       "      <th></th>\n",
       "      <th>VIP</th>\n",
       "    </tr>\n",
       "  </thead>\n",
       "  <tbody>\n",
       "    <tr>\n",
       "      <th>False</th>\n",
       "      <td>8291</td>\n",
       "    </tr>\n",
       "    <tr>\n",
       "      <th>True</th>\n",
       "      <td>199</td>\n",
       "    </tr>\n",
       "  </tbody>\n",
       "</table>\n",
       "</div></td><td><div>\n",
       "<style scoped>\n",
       "    .dataframe tbody tr th:only-of-type {\n",
       "        vertical-align: middle;\n",
       "    }\n",
       "\n",
       "    .dataframe tbody tr th {\n",
       "        vertical-align: top;\n",
       "    }\n",
       "\n",
       "    .dataframe thead th {\n",
       "        text-align: right;\n",
       "    }\n",
       "</style>\n",
       "<table border=\"1\" class=\"dataframe\">\n",
       "  <thead>\n",
       "    <tr style=\"text-align: right;\">\n",
       "      <th></th>\n",
       "      <th>RoomService</th>\n",
       "    </tr>\n",
       "  </thead>\n",
       "  <tbody>\n",
       "    <tr>\n",
       "      <th>0.0</th>\n",
       "      <td>5577</td>\n",
       "    </tr>\n",
       "    <tr>\n",
       "      <th>1.0</th>\n",
       "      <td>117</td>\n",
       "    </tr>\n",
       "    <tr>\n",
       "      <th>2.0</th>\n",
       "      <td>79</td>\n",
       "    </tr>\n",
       "    <tr>\n",
       "      <th>3.0</th>\n",
       "      <td>61</td>\n",
       "    </tr>\n",
       "    <tr>\n",
       "      <th>4.0</th>\n",
       "      <td>47</td>\n",
       "    </tr>\n",
       "    <tr>\n",
       "      <th>...</th>\n",
       "      <td>...</td>\n",
       "    </tr>\n",
       "    <tr>\n",
       "      <th>1612.0</th>\n",
       "      <td>1</td>\n",
       "    </tr>\n",
       "    <tr>\n",
       "      <th>2598.0</th>\n",
       "      <td>1</td>\n",
       "    </tr>\n",
       "    <tr>\n",
       "      <th>632.0</th>\n",
       "      <td>1</td>\n",
       "    </tr>\n",
       "    <tr>\n",
       "      <th>378.0</th>\n",
       "      <td>1</td>\n",
       "    </tr>\n",
       "    <tr>\n",
       "      <th>745.0</th>\n",
       "      <td>1</td>\n",
       "    </tr>\n",
       "  </tbody>\n",
       "</table>\n",
       "<p>1273 rows × 1 columns</p>\n",
       "</div></td><td><div>\n",
       "<style scoped>\n",
       "    .dataframe tbody tr th:only-of-type {\n",
       "        vertical-align: middle;\n",
       "    }\n",
       "\n",
       "    .dataframe tbody tr th {\n",
       "        vertical-align: top;\n",
       "    }\n",
       "\n",
       "    .dataframe thead th {\n",
       "        text-align: right;\n",
       "    }\n",
       "</style>\n",
       "<table border=\"1\" class=\"dataframe\">\n",
       "  <thead>\n",
       "    <tr style=\"text-align: right;\">\n",
       "      <th></th>\n",
       "      <th>FoodCourt</th>\n",
       "    </tr>\n",
       "  </thead>\n",
       "  <tbody>\n",
       "    <tr>\n",
       "      <th>0.0</th>\n",
       "      <td>5456</td>\n",
       "    </tr>\n",
       "    <tr>\n",
       "      <th>1.0</th>\n",
       "      <td>116</td>\n",
       "    </tr>\n",
       "    <tr>\n",
       "      <th>2.0</th>\n",
       "      <td>75</td>\n",
       "    </tr>\n",
       "    <tr>\n",
       "      <th>3.0</th>\n",
       "      <td>53</td>\n",
       "    </tr>\n",
       "    <tr>\n",
       "      <th>4.0</th>\n",
       "      <td>53</td>\n",
       "    </tr>\n",
       "    <tr>\n",
       "      <th>...</th>\n",
       "      <td>...</td>\n",
       "    </tr>\n",
       "    <tr>\n",
       "      <th>3846.0</th>\n",
       "      <td>1</td>\n",
       "    </tr>\n",
       "    <tr>\n",
       "      <th>5193.0</th>\n",
       "      <td>1</td>\n",
       "    </tr>\n",
       "    <tr>\n",
       "      <th>312.0</th>\n",
       "      <td>1</td>\n",
       "    </tr>\n",
       "    <tr>\n",
       "      <th>827.0</th>\n",
       "      <td>1</td>\n",
       "    </tr>\n",
       "    <tr>\n",
       "      <th>4688.0</th>\n",
       "      <td>1</td>\n",
       "    </tr>\n",
       "  </tbody>\n",
       "</table>\n",
       "<p>1507 rows × 1 columns</p>\n",
       "</div></td><td><div>\n",
       "<style scoped>\n",
       "    .dataframe tbody tr th:only-of-type {\n",
       "        vertical-align: middle;\n",
       "    }\n",
       "\n",
       "    .dataframe tbody tr th {\n",
       "        vertical-align: top;\n",
       "    }\n",
       "\n",
       "    .dataframe thead th {\n",
       "        text-align: right;\n",
       "    }\n",
       "</style>\n",
       "<table border=\"1\" class=\"dataframe\">\n",
       "  <thead>\n",
       "    <tr style=\"text-align: right;\">\n",
       "      <th></th>\n",
       "      <th>ShoppingMall</th>\n",
       "    </tr>\n",
       "  </thead>\n",
       "  <tbody>\n",
       "    <tr>\n",
       "      <th>0.0</th>\n",
       "      <td>5587</td>\n",
       "    </tr>\n",
       "    <tr>\n",
       "      <th>1.0</th>\n",
       "      <td>153</td>\n",
       "    </tr>\n",
       "    <tr>\n",
       "      <th>2.0</th>\n",
       "      <td>80</td>\n",
       "    </tr>\n",
       "    <tr>\n",
       "      <th>3.0</th>\n",
       "      <td>59</td>\n",
       "    </tr>\n",
       "    <tr>\n",
       "      <th>4.0</th>\n",
       "      <td>45</td>\n",
       "    </tr>\n",
       "    <tr>\n",
       "      <th>...</th>\n",
       "      <td>...</td>\n",
       "    </tr>\n",
       "    <tr>\n",
       "      <th>3627.0</th>\n",
       "      <td>1</td>\n",
       "    </tr>\n",
       "    <tr>\n",
       "      <th>2074.0</th>\n",
       "      <td>1</td>\n",
       "    </tr>\n",
       "    <tr>\n",
       "      <th>871.0</th>\n",
       "      <td>1</td>\n",
       "    </tr>\n",
       "    <tr>\n",
       "      <th>742.0</th>\n",
       "      <td>1</td>\n",
       "    </tr>\n",
       "    <tr>\n",
       "      <th>1872.0</th>\n",
       "      <td>1</td>\n",
       "    </tr>\n",
       "  </tbody>\n",
       "</table>\n",
       "<p>1115 rows × 1 columns</p>\n",
       "</div></td><td><div>\n",
       "<style scoped>\n",
       "    .dataframe tbody tr th:only-of-type {\n",
       "        vertical-align: middle;\n",
       "    }\n",
       "\n",
       "    .dataframe tbody tr th {\n",
       "        vertical-align: top;\n",
       "    }\n",
       "\n",
       "    .dataframe thead th {\n",
       "        text-align: right;\n",
       "    }\n",
       "</style>\n",
       "<table border=\"1\" class=\"dataframe\">\n",
       "  <thead>\n",
       "    <tr style=\"text-align: right;\">\n",
       "      <th></th>\n",
       "      <th>Spa</th>\n",
       "    </tr>\n",
       "  </thead>\n",
       "  <tbody>\n",
       "    <tr>\n",
       "      <th>0.0</th>\n",
       "      <td>5324</td>\n",
       "    </tr>\n",
       "    <tr>\n",
       "      <th>1.0</th>\n",
       "      <td>146</td>\n",
       "    </tr>\n",
       "    <tr>\n",
       "      <th>2.0</th>\n",
       "      <td>105</td>\n",
       "    </tr>\n",
       "    <tr>\n",
       "      <th>5.0</th>\n",
       "      <td>53</td>\n",
       "    </tr>\n",
       "    <tr>\n",
       "      <th>3.0</th>\n",
       "      <td>53</td>\n",
       "    </tr>\n",
       "    <tr>\n",
       "      <th>...</th>\n",
       "      <td>...</td>\n",
       "    </tr>\n",
       "    <tr>\n",
       "      <th>273.0</th>\n",
       "      <td>1</td>\n",
       "    </tr>\n",
       "    <tr>\n",
       "      <th>2581.0</th>\n",
       "      <td>1</td>\n",
       "    </tr>\n",
       "    <tr>\n",
       "      <th>2948.0</th>\n",
       "      <td>1</td>\n",
       "    </tr>\n",
       "    <tr>\n",
       "      <th>3778.0</th>\n",
       "      <td>1</td>\n",
       "    </tr>\n",
       "    <tr>\n",
       "      <th>1643.0</th>\n",
       "      <td>1</td>\n",
       "    </tr>\n",
       "  </tbody>\n",
       "</table>\n",
       "<p>1327 rows × 1 columns</p>\n",
       "</div></td><td><div>\n",
       "<style scoped>\n",
       "    .dataframe tbody tr th:only-of-type {\n",
       "        vertical-align: middle;\n",
       "    }\n",
       "\n",
       "    .dataframe tbody tr th {\n",
       "        vertical-align: top;\n",
       "    }\n",
       "\n",
       "    .dataframe thead th {\n",
       "        text-align: right;\n",
       "    }\n",
       "</style>\n",
       "<table border=\"1\" class=\"dataframe\">\n",
       "  <thead>\n",
       "    <tr style=\"text-align: right;\">\n",
       "      <th></th>\n",
       "      <th>VRDeck</th>\n",
       "    </tr>\n",
       "  </thead>\n",
       "  <tbody>\n",
       "    <tr>\n",
       "      <th>0.0</th>\n",
       "      <td>5495</td>\n",
       "    </tr>\n",
       "    <tr>\n",
       "      <th>1.0</th>\n",
       "      <td>139</td>\n",
       "    </tr>\n",
       "    <tr>\n",
       "      <th>2.0</th>\n",
       "      <td>70</td>\n",
       "    </tr>\n",
       "    <tr>\n",
       "      <th>3.0</th>\n",
       "      <td>56</td>\n",
       "    </tr>\n",
       "    <tr>\n",
       "      <th>5.0</th>\n",
       "      <td>51</td>\n",
       "    </tr>\n",
       "    <tr>\n",
       "      <th>...</th>\n",
       "      <td>...</td>\n",
       "    </tr>\n",
       "    <tr>\n",
       "      <th>408.0</th>\n",
       "      <td>1</td>\n",
       "    </tr>\n",
       "    <tr>\n",
       "      <th>876.0</th>\n",
       "      <td>1</td>\n",
       "    </tr>\n",
       "    <tr>\n",
       "      <th>2891.0</th>\n",
       "      <td>1</td>\n",
       "    </tr>\n",
       "    <tr>\n",
       "      <th>2102.0</th>\n",
       "      <td>1</td>\n",
       "    </tr>\n",
       "    <tr>\n",
       "      <th>3235.0</th>\n",
       "      <td>1</td>\n",
       "    </tr>\n",
       "  </tbody>\n",
       "</table>\n",
       "<p>1306 rows × 1 columns</p>\n",
       "</div></td><td><div>\n",
       "<style scoped>\n",
       "    .dataframe tbody tr th:only-of-type {\n",
       "        vertical-align: middle;\n",
       "    }\n",
       "\n",
       "    .dataframe tbody tr th {\n",
       "        vertical-align: top;\n",
       "    }\n",
       "\n",
       "    .dataframe thead th {\n",
       "        text-align: right;\n",
       "    }\n",
       "</style>\n",
       "<table border=\"1\" class=\"dataframe\">\n",
       "  <thead>\n",
       "    <tr style=\"text-align: right;\">\n",
       "      <th></th>\n",
       "      <th>Name</th>\n",
       "    </tr>\n",
       "  </thead>\n",
       "  <tbody>\n",
       "    <tr>\n",
       "      <th>Gollux Reedall</th>\n",
       "      <td>2</td>\n",
       "    </tr>\n",
       "    <tr>\n",
       "      <th>Elaney Webstephrey</th>\n",
       "      <td>2</td>\n",
       "    </tr>\n",
       "    <tr>\n",
       "      <th>Grake Porki</th>\n",
       "      <td>2</td>\n",
       "    </tr>\n",
       "    <tr>\n",
       "      <th>Sus Coolez</th>\n",
       "      <td>2</td>\n",
       "    </tr>\n",
       "    <tr>\n",
       "      <th>Apix Wala</th>\n",
       "      <td>2</td>\n",
       "    </tr>\n",
       "    <tr>\n",
       "      <th>...</th>\n",
       "      <td>...</td>\n",
       "    </tr>\n",
       "    <tr>\n",
       "      <th>Jamela Griffy</th>\n",
       "      <td>1</td>\n",
       "    </tr>\n",
       "    <tr>\n",
       "      <th>Hardy Griffy</th>\n",
       "      <td>1</td>\n",
       "    </tr>\n",
       "    <tr>\n",
       "      <th>Salley Mckinn</th>\n",
       "      <td>1</td>\n",
       "    </tr>\n",
       "    <tr>\n",
       "      <th>Mall Frasp</th>\n",
       "      <td>1</td>\n",
       "    </tr>\n",
       "    <tr>\n",
       "      <th>Propsh Hontichre</th>\n",
       "      <td>1</td>\n",
       "    </tr>\n",
       "  </tbody>\n",
       "</table>\n",
       "<p>8473 rows × 1 columns</p>\n",
       "</div></td><td><div>\n",
       "<style scoped>\n",
       "    .dataframe tbody tr th:only-of-type {\n",
       "        vertical-align: middle;\n",
       "    }\n",
       "\n",
       "    .dataframe tbody tr th {\n",
       "        vertical-align: top;\n",
       "    }\n",
       "\n",
       "    .dataframe thead th {\n",
       "        text-align: right;\n",
       "    }\n",
       "</style>\n",
       "<table border=\"1\" class=\"dataframe\">\n",
       "  <thead>\n",
       "    <tr style=\"text-align: right;\">\n",
       "      <th></th>\n",
       "      <th>Transported</th>\n",
       "    </tr>\n",
       "  </thead>\n",
       "  <tbody>\n",
       "    <tr>\n",
       "      <th>True</th>\n",
       "      <td>4378</td>\n",
       "    </tr>\n",
       "    <tr>\n",
       "      <th>False</th>\n",
       "      <td>4315</td>\n",
       "    </tr>\n",
       "  </tbody>\n",
       "</table>\n",
       "</div></td> </tr></table>"
      ],
      "text/plain": [
       "<IPython.core.display.HTML object>"
      ]
     },
     "execution_count": 7,
     "metadata": {},
     "output_type": "execute_result"
    }
   ],
   "source": [
    "##From https://www.kaggle.com/code/arootda/pycaret-visualization-optimization-0-81/notebook\n",
    "from IPython.core.display import HTML\n",
    "\n",
    "def multi_table(table_list):\n",
    "    return HTML(\n",
    "        f\"<table><tr> {''.join(['<td>' + table._repr_html_() + '</td>' for table in table_list])} </tr></table>\")\n",
    "\n",
    "multi_table([pd.DataFrame(df[i].value_counts()) for i in df.columns if i != \"I'm serious this could be your ad here\"])"
   ]
  },
  {
   "cell_type": "markdown",
   "id": "3668b592",
   "metadata": {},
   "source": [
    "### Missing data"
   ]
  },
  {
   "cell_type": "markdown",
   "id": "b9fe6f7f",
   "metadata": {},
   "source": [
    "In statistics, missing data, or missing values, occur when no data value is stored for the variable in an observation. Missing data are a common occurrence and can have a significant effect on the conclusions that can be drawn from the data. [https://en.wikipedia.org/wiki/Missing_data]"
   ]
  },
  {
   "cell_type": "code",
   "execution_count": 8,
   "id": "b1689354",
   "metadata": {
    "ExecuteTime": {
     "end_time": "2022-06-15T10:34:02.585781Z",
     "start_time": "2022-06-15T10:34:02.581189Z"
    }
   },
   "outputs": [
    {
     "data": {
      "text/html": [
       "<img src=\"https://cjasn.asnjournals.org/content/clinjasn/early/2014/02/06/CJN.10141013/F2.large.jpg?width=800&height=600&carousel=1\" width=\"700\"/>"
      ],
      "text/plain": [
       "<IPython.core.display.Image object>"
      ]
     },
     "execution_count": 8,
     "metadata": {},
     "output_type": "execute_result"
    }
   ],
   "source": [
    "# from https://cjasn.asnjournals.org/content/early/2014/02/06/CJN.10141013?versioned=true\n",
    "from IPython.display import Image\n",
    "Image(url = 'https://cjasn.asnjournals.org/content/clinjasn/early/2014/02/06/CJN.10141013/F2.large.jpg?width=800&height=600&carousel=1', width=700)"
   ]
  },
  {
   "cell_type": "markdown",
   "id": "8cb988e5",
   "metadata": {
    "ExecuteTime": {
     "end_time": "2022-06-14T14:22:43.754014Z",
     "start_time": "2022-06-14T14:22:43.748906Z"
    }
   },
   "source": [
    "- Missing Completely at Random (MCAR)\n",
    "\n",
    "The missing values on a given variable (Y) are not associated with other variables in a given data set or with the variable (Y) itself. In other words, there is no particular reason for the missing values.\n",
    "\n",
    "- Missing at Random (MAR)\n",
    "\n",
    "MAR occurs when the missingness is not random, but where missingness can be fully accounted for by variables where there is complete information.\n",
    "\n",
    "- Missing Not at Random (MNAR)\n",
    "\n",
    "Missingness depends on unobserved data or the value of the missing data itself.\n",
    "\n",
    "Wikipedia: https://en.wikipedia.org/wiki/Missing_data\n",
    "\n",
    "Good guide\n",
    "\n",
    "source: https://www.kaggle.com/code/parulpandey/a-guide-to-handling-missing-values-in-python\n"
   ]
  },
  {
   "cell_type": "markdown",
   "id": "3d67a267",
   "metadata": {
    "ExecuteTime": {
     "end_time": "2022-06-14T14:22:50.350761Z",
     "start_time": "2022-06-14T14:22:50.348209Z"
    }
   },
   "source": [
    "#### Search null"
   ]
  },
  {
   "cell_type": "code",
   "execution_count": 9,
   "id": "37626c9f",
   "metadata": {
    "ExecuteTime": {
     "end_time": "2022-06-15T10:34:02.590358Z",
     "start_time": "2022-06-15T10:34:02.586798Z"
    }
   },
   "outputs": [],
   "source": [
    "def null_detector(df):\n",
    "    # number of all null values in dataframe columns\n",
    "    \n",
    "    print(f'number of all null values in df columns')\n",
    "\n",
    "    print(\"\\n\"f'{df.isnull().sum()}')\n",
    "\n",
    "    # Nullity matrix to find null value in dataframe\n",
    "    plt.figure(figsize=(15,10))\n",
    "    sns.heatmap(df.isnull(),\n",
    "            cmap=\"YlGnBu\",\n",
    "            cbar_kws={'label': 'Missing Data'})\n",
    "    plt.show()"
   ]
  },
  {
   "cell_type": "code",
   "execution_count": 10,
   "id": "593a1e3a",
   "metadata": {
    "ExecuteTime": {
     "end_time": "2022-06-15T10:34:03.889793Z",
     "start_time": "2022-06-15T10:34:02.591386Z"
    }
   },
   "outputs": [
    {
     "name": "stdout",
     "output_type": "stream",
     "text": [
      "number of all null values in df columns\n",
      "\n",
      "PassengerId       0\n",
      "HomePlanet      201\n",
      "CryoSleep       217\n",
      "Cabin           199\n",
      "Destination     182\n",
      "Age             179\n",
      "VIP             203\n",
      "RoomService     181\n",
      "FoodCourt       183\n",
      "ShoppingMall    208\n",
      "Spa             183\n",
      "VRDeck          188\n",
      "Name            200\n",
      "Transported       0\n",
      "dtype: int64\n"
     ]
    },
    {
     "data": {
      "image/png": "[encoded data removed]",
      "text/plain": [
       "<Figure size 1080x720 with 2 Axes>"
      ]
     },
     "metadata": {
      "needs_background": "light"
     },
     "output_type": "display_data"
    },
    {
     "name": "stdout",
     "output_type": "stream",
     "text": [
      "number of all null values in df columns\n",
      "\n",
      "PassengerId       0\n",
      "HomePlanet       87\n",
      "CryoSleep        93\n",
      "Cabin           100\n",
      "Destination      92\n",
      "Age              91\n",
      "VIP              93\n",
      "RoomService      82\n",
      "FoodCourt       106\n",
      "ShoppingMall     98\n",
      "Spa             101\n",
      "VRDeck           80\n",
      "Name             94\n",
      "dtype: int64\n"
     ]
    },
    {
     "data": {
      "image/png": "[encoded data removed]",
      "text/plain": [
       "<Figure size 1080x720 with 2 Axes>"
      ]
     },
     "metadata": {
      "needs_background": "light"
     },
     "output_type": "display_data"
    }
   ],
   "source": [
    "null_detector(df)\n",
    "null_detector(test)"
   ]
  },
  {
   "cell_type": "code",
   "execution_count": 11,
   "id": "9bb07afa",
   "metadata": {
    "ExecuteTime": {
     "end_time": "2022-06-15T10:34:03.902007Z",
     "start_time": "2022-06-15T10:34:03.891319Z"
    }
   },
   "outputs": [],
   "source": [
    "# drop duplicats\n",
    "df.drop_duplicates(inplace=True)\n"
   ]
  },
  {
   "cell_type": "code",
   "execution_count": 12,
   "id": "93c7460a",
   "metadata": {
    "ExecuteTime": {
     "end_time": "2022-06-15T10:34:04.012776Z",
     "start_time": "2022-06-15T10:34:03.905060Z"
    }
   },
   "outputs": [
    {
     "name": "stdout",
     "output_type": "stream",
     "text": [
      "<class 'pandas.core.frame.DataFrame'>\n",
      "Int64Index: 8693 entries, 0 to 8692\n",
      "Data columns (total 14 columns):\n",
      " #   Column        Non-Null Count  Dtype  \n",
      "---  ------        --------------  -----  \n",
      " 0   PassengerId   8693 non-null   object \n",
      " 1   HomePlanet    8492 non-null   object \n",
      " 2   CryoSleep     8476 non-null   object \n",
      " 3   Cabin         8494 non-null   object \n",
      " 4   Destination   8511 non-null   object \n",
      " 5   Age           8514 non-null   float64\n",
      " 6   VIP           8490 non-null   object \n",
      " 7   RoomService   8512 non-null   float64\n",
      " 8   FoodCourt     8510 non-null   float64\n",
      " 9   ShoppingMall  8485 non-null   float64\n",
      " 10  Spa           8510 non-null   float64\n",
      " 11  VRDeck        8505 non-null   float64\n",
      " 12  Name          8493 non-null   object \n",
      " 13  Transported   8693 non-null   bool   \n",
      "dtypes: bool(1), float64(6), object(7)\n",
      "memory usage: 959.3+ KB\n"
     ]
    }
   ],
   "source": [
    "df.info()"
   ]
  },
  {
   "cell_type": "code",
   "execution_count": 13,
   "id": "b1400bcf",
   "metadata": {
    "ExecuteTime": {
     "end_time": "2022-06-15T10:34:04.025507Z",
     "start_time": "2022-06-15T10:34:04.014301Z"
    }
   },
   "outputs": [
    {
     "name": "stdout",
     "output_type": "stream",
     "text": [
      "<class 'pandas.core.frame.DataFrame'>\n",
      "RangeIndex: 4277 entries, 0 to 4276\n",
      "Data columns (total 13 columns):\n",
      " #   Column        Non-Null Count  Dtype  \n",
      "---  ------        --------------  -----  \n",
      " 0   PassengerId   4277 non-null   object \n",
      " 1   HomePlanet    4190 non-null   object \n",
      " 2   CryoSleep     4184 non-null   object \n",
      " 3   Cabin         4177 non-null   object \n",
      " 4   Destination   4185 non-null   object \n",
      " 5   Age           4186 non-null   float64\n",
      " 6   VIP           4184 non-null   object \n",
      " 7   RoomService   4195 non-null   float64\n",
      " 8   FoodCourt     4171 non-null   float64\n",
      " 9   ShoppingMall  4179 non-null   float64\n",
      " 10  Spa           4176 non-null   float64\n",
      " 11  VRDeck        4197 non-null   float64\n",
      " 12  Name          4183 non-null   object \n",
      "dtypes: float64(6), object(7)\n",
      "memory usage: 434.5+ KB\n"
     ]
    }
   ],
   "source": [
    "test.info()"
   ]
  },
  {
   "cell_type": "code",
   "execution_count": 14,
   "id": "26f29ed0",
   "metadata": {
    "ExecuteTime": {
     "end_time": "2022-06-15T10:34:04.061754Z",
     "start_time": "2022-06-15T10:34:04.026532Z"
    }
   },
   "outputs": [
    {
     "data": {
      "text/html": [
       "<div>\n",
       "<style scoped>\n",
       "    .dataframe tbody tr th:only-of-type {\n",
       "        vertical-align: middle;\n",
       "    }\n",
       "\n",
       "    .dataframe tbody tr th {\n",
       "        vertical-align: top;\n",
       "    }\n",
       "\n",
       "    .dataframe thead th {\n",
       "        text-align: right;\n",
       "    }\n",
       "</style>\n",
       "<table border=\"1\" class=\"dataframe\">\n",
       "  <thead>\n",
       "    <tr style=\"text-align: right;\">\n",
       "      <th></th>\n",
       "      <th>count</th>\n",
       "      <th>unique</th>\n",
       "      <th>top</th>\n",
       "      <th>freq</th>\n",
       "      <th>mean</th>\n",
       "      <th>std</th>\n",
       "      <th>min</th>\n",
       "      <th>25%</th>\n",
       "      <th>50%</th>\n",
       "      <th>75%</th>\n",
       "      <th>max</th>\n",
       "    </tr>\n",
       "  </thead>\n",
       "  <tbody>\n",
       "    <tr>\n",
       "      <th>PassengerId</th>\n",
       "      <td>8693</td>\n",
       "      <td>8693</td>\n",
       "      <td>0001_01</td>\n",
       "      <td>1</td>\n",
       "      <td>NaN</td>\n",
       "      <td>NaN</td>\n",
       "      <td>NaN</td>\n",
       "      <td>NaN</td>\n",
       "      <td>NaN</td>\n",
       "      <td>NaN</td>\n",
       "      <td>NaN</td>\n",
       "    </tr>\n",
       "    <tr>\n",
       "      <th>HomePlanet</th>\n",
       "      <td>8492</td>\n",
       "      <td>3</td>\n",
       "      <td>Earth</td>\n",
       "      <td>4602</td>\n",
       "      <td>NaN</td>\n",
       "      <td>NaN</td>\n",
       "      <td>NaN</td>\n",
       "      <td>NaN</td>\n",
       "      <td>NaN</td>\n",
       "      <td>NaN</td>\n",
       "      <td>NaN</td>\n",
       "    </tr>\n",
       "    <tr>\n",
       "      <th>CryoSleep</th>\n",
       "      <td>8476</td>\n",
       "      <td>2</td>\n",
       "      <td>False</td>\n",
       "      <td>5439</td>\n",
       "      <td>NaN</td>\n",
       "      <td>NaN</td>\n",
       "      <td>NaN</td>\n",
       "      <td>NaN</td>\n",
       "      <td>NaN</td>\n",
       "      <td>NaN</td>\n",
       "      <td>NaN</td>\n",
       "    </tr>\n",
       "    <tr>\n",
       "      <th>Cabin</th>\n",
       "      <td>8494</td>\n",
       "      <td>6560</td>\n",
       "      <td>G/734/S</td>\n",
       "      <td>8</td>\n",
       "      <td>NaN</td>\n",
       "      <td>NaN</td>\n",
       "      <td>NaN</td>\n",
       "      <td>NaN</td>\n",
       "      <td>NaN</td>\n",
       "      <td>NaN</td>\n",
       "      <td>NaN</td>\n",
       "    </tr>\n",
       "    <tr>\n",
       "      <th>Destination</th>\n",
       "      <td>8511</td>\n",
       "      <td>3</td>\n",
       "      <td>TRAPPIST-1e</td>\n",
       "      <td>5915</td>\n",
       "      <td>NaN</td>\n",
       "      <td>NaN</td>\n",
       "      <td>NaN</td>\n",
       "      <td>NaN</td>\n",
       "      <td>NaN</td>\n",
       "      <td>NaN</td>\n",
       "      <td>NaN</td>\n",
       "    </tr>\n",
       "    <tr>\n",
       "      <th>Age</th>\n",
       "      <td>8514.0</td>\n",
       "      <td>NaN</td>\n",
       "      <td>NaN</td>\n",
       "      <td>NaN</td>\n",
       "      <td>28.82793</td>\n",
       "      <td>14.489021</td>\n",
       "      <td>0.0</td>\n",
       "      <td>19.0</td>\n",
       "      <td>27.0</td>\n",
       "      <td>38.0</td>\n",
       "      <td>79.0</td>\n",
       "    </tr>\n",
       "    <tr>\n",
       "      <th>VIP</th>\n",
       "      <td>8490</td>\n",
       "      <td>2</td>\n",
       "      <td>False</td>\n",
       "      <td>8291</td>\n",
       "      <td>NaN</td>\n",
       "      <td>NaN</td>\n",
       "      <td>NaN</td>\n",
       "      <td>NaN</td>\n",
       "      <td>NaN</td>\n",
       "      <td>NaN</td>\n",
       "      <td>NaN</td>\n",
       "    </tr>\n",
       "    <tr>\n",
       "      <th>RoomService</th>\n",
       "      <td>8512.0</td>\n",
       "      <td>NaN</td>\n",
       "      <td>NaN</td>\n",
       "      <td>NaN</td>\n",
       "      <td>224.687617</td>\n",
       "      <td>666.717663</td>\n",
       "      <td>0.0</td>\n",
       "      <td>0.0</td>\n",
       "      <td>0.0</td>\n",
       "      <td>47.0</td>\n",
       "      <td>14327.0</td>\n",
       "    </tr>\n",
       "    <tr>\n",
       "      <th>FoodCourt</th>\n",
       "      <td>8510.0</td>\n",
       "      <td>NaN</td>\n",
       "      <td>NaN</td>\n",
       "      <td>NaN</td>\n",
       "      <td>458.077203</td>\n",
       "      <td>1611.48924</td>\n",
       "      <td>0.0</td>\n",
       "      <td>0.0</td>\n",
       "      <td>0.0</td>\n",
       "      <td>76.0</td>\n",
       "      <td>29813.0</td>\n",
       "    </tr>\n",
       "    <tr>\n",
       "      <th>ShoppingMall</th>\n",
       "      <td>8485.0</td>\n",
       "      <td>NaN</td>\n",
       "      <td>NaN</td>\n",
       "      <td>NaN</td>\n",
       "      <td>173.729169</td>\n",
       "      <td>604.696458</td>\n",
       "      <td>0.0</td>\n",
       "      <td>0.0</td>\n",
       "      <td>0.0</td>\n",
       "      <td>27.0</td>\n",
       "      <td>23492.0</td>\n",
       "    </tr>\n",
       "    <tr>\n",
       "      <th>Spa</th>\n",
       "      <td>8510.0</td>\n",
       "      <td>NaN</td>\n",
       "      <td>NaN</td>\n",
       "      <td>NaN</td>\n",
       "      <td>311.138778</td>\n",
       "      <td>1136.705535</td>\n",
       "      <td>0.0</td>\n",
       "      <td>0.0</td>\n",
       "      <td>0.0</td>\n",
       "      <td>59.0</td>\n",
       "      <td>22408.0</td>\n",
       "    </tr>\n",
       "    <tr>\n",
       "      <th>VRDeck</th>\n",
       "      <td>8505.0</td>\n",
       "      <td>NaN</td>\n",
       "      <td>NaN</td>\n",
       "      <td>NaN</td>\n",
       "      <td>304.854791</td>\n",
       "      <td>1145.717189</td>\n",
       "      <td>0.0</td>\n",
       "      <td>0.0</td>\n",
       "      <td>0.0</td>\n",
       "      <td>46.0</td>\n",
       "      <td>24133.0</td>\n",
       "    </tr>\n",
       "    <tr>\n",
       "      <th>Name</th>\n",
       "      <td>8493</td>\n",
       "      <td>8473</td>\n",
       "      <td>Gollux Reedall</td>\n",
       "      <td>2</td>\n",
       "      <td>NaN</td>\n",
       "      <td>NaN</td>\n",
       "      <td>NaN</td>\n",
       "      <td>NaN</td>\n",
       "      <td>NaN</td>\n",
       "      <td>NaN</td>\n",
       "      <td>NaN</td>\n",
       "    </tr>\n",
       "    <tr>\n",
       "      <th>Transported</th>\n",
       "      <td>8693</td>\n",
       "      <td>2</td>\n",
       "      <td>True</td>\n",
       "      <td>4378</td>\n",
       "      <td>NaN</td>\n",
       "      <td>NaN</td>\n",
       "      <td>NaN</td>\n",
       "      <td>NaN</td>\n",
       "      <td>NaN</td>\n",
       "      <td>NaN</td>\n",
       "      <td>NaN</td>\n",
       "    </tr>\n",
       "  </tbody>\n",
       "</table>\n",
       "</div>"
      ],
      "text/plain": [
       "               count unique             top  freq        mean          std  \\\n",
       "PassengerId     8693   8693         0001_01     1         NaN          NaN   \n",
       "HomePlanet      8492      3           Earth  4602         NaN          NaN   \n",
       "CryoSleep       8476      2           False  5439         NaN          NaN   \n",
       "Cabin           8494   6560         G/734/S     8         NaN          NaN   \n",
       "Destination     8511      3     TRAPPIST-1e  5915         NaN          NaN   \n",
       "Age           8514.0    NaN             NaN   NaN    28.82793    14.489021   \n",
       "VIP             8490      2           False  8291         NaN          NaN   \n",
       "RoomService   8512.0    NaN             NaN   NaN  224.687617   666.717663   \n",
       "FoodCourt     8510.0    NaN             NaN   NaN  458.077203   1611.48924   \n",
       "ShoppingMall  8485.0    NaN             NaN   NaN  173.729169   604.696458   \n",
       "Spa           8510.0    NaN             NaN   NaN  311.138778  1136.705535   \n",
       "VRDeck        8505.0    NaN             NaN   NaN  304.854791  1145.717189   \n",
       "Name            8493   8473  Gollux Reedall     2         NaN          NaN   \n",
       "Transported     8693      2            True  4378         NaN          NaN   \n",
       "\n",
       "              min   25%   50%   75%      max  \n",
       "PassengerId   NaN   NaN   NaN   NaN      NaN  \n",
       "HomePlanet    NaN   NaN   NaN   NaN      NaN  \n",
       "CryoSleep     NaN   NaN   NaN   NaN      NaN  \n",
       "Cabin         NaN   NaN   NaN   NaN      NaN  \n",
       "Destination   NaN   NaN   NaN   NaN      NaN  \n",
       "Age           0.0  19.0  27.0  38.0     79.0  \n",
       "VIP           NaN   NaN   NaN   NaN      NaN  \n",
       "RoomService   0.0   0.0   0.0  47.0  14327.0  \n",
       "FoodCourt     0.0   0.0   0.0  76.0  29813.0  \n",
       "ShoppingMall  0.0   0.0   0.0  27.0  23492.0  \n",
       "Spa           0.0   0.0   0.0  59.0  22408.0  \n",
       "VRDeck        0.0   0.0   0.0  46.0  24133.0  \n",
       "Name          NaN   NaN   NaN   NaN      NaN  \n",
       "Transported   NaN   NaN   NaN   NaN      NaN  "
      ]
     },
     "execution_count": 14,
     "metadata": {},
     "output_type": "execute_result"
    }
   ],
   "source": [
    "df.describe(include='all').T"
   ]
  },
  {
   "cell_type": "code",
   "execution_count": 15,
   "id": "2b781d33",
   "metadata": {
    "ExecuteTime": {
     "end_time": "2022-06-15T10:34:04.591857Z",
     "start_time": "2022-06-15T10:34:04.062777Z"
    }
   },
   "outputs": [
    {
     "data": {
      "text/plain": [
       "array([[<AxesSubplot:title={'center':'Age'}>,\n",
       "        <AxesSubplot:title={'center':'RoomService'}>],\n",
       "       [<AxesSubplot:title={'center':'FoodCourt'}>,\n",
       "        <AxesSubplot:title={'center':'ShoppingMall'}>],\n",
       "       [<AxesSubplot:title={'center':'Spa'}>,\n",
       "        <AxesSubplot:title={'center':'VRDeck'}>]], dtype=object)"
      ]
     },
     "execution_count": 15,
     "metadata": {},
     "output_type": "execute_result"
    },
    {
     "data": {
      "image/png": "[encoded data removed]",
      "text/plain": [
       "<Figure size 1728x1728 with 6 Axes>"
      ]
     },
     "metadata": {
      "needs_background": "light"
     },
     "output_type": "display_data"
    }
   ],
   "source": [
    "df[df.dtypes[(df.dtypes == \"float64\") |\n",
    "             (df.dtypes == \"int64\")].index.values].hist(figsize=[24, 24])"
   ]
  },
  {
   "cell_type": "code",
   "execution_count": 16,
   "id": "42496be0",
   "metadata": {
    "ExecuteTime": {
     "end_time": "2022-06-15T10:34:04.888830Z",
     "start_time": "2022-06-15T10:34:04.592871Z"
    }
   },
   "outputs": [
    {
     "data": {
      "text/plain": [
       "<AxesSubplot:>"
      ]
     },
     "execution_count": 16,
     "metadata": {},
     "output_type": "execute_result"
    },
    {
     "data": {
      "image/png": "[encoded data removed]",
      "text/plain": [
       "<Figure size 1440x720 with 2 Axes>"
      ]
     },
     "metadata": {
      "needs_background": "light"
     },
     "output_type": "display_data"
    }
   ],
   "source": [
    "# Pearson correlation map\n",
    "cols = df.corr().index\n",
    "cm = df[cols].corr()\n",
    "plt.figure(figsize=(20, 10))\n",
    "sns.heatmap(cm, annot=True, cmap='viridis')"
   ]
  },
  {
   "cell_type": "markdown",
   "id": "d343d118",
   "metadata": {},
   "source": [
    "In statistics, correlation or dependence is any statistical relationship between two variables. \"correlation\" may indicate any type of association, in statistics it refers to the degree to which a pair of variables are linearly related. We can only measure the numerical features.\n",
    "The values range between -1.0 and 1.0. A calculated number greater than 1.0 or less than -1.0 means that there was an error in the correlation measurement.\n",
    "\n",
    "The two main types of correlation:\n",
    "- positive correlation and\n",
    "- negative correlation.\n",
    "\n",
    "Positive correlation: A value 1.0 means perfect positive correlation, it's mean that increase in this feature lead in increase in another feature. i.e if we have features A, B and if feature A leads to increase in feature B, then they are positive correlated. If a value -1 that mean positive correlation\n",
    "\n",
    "Negative correlation: A value -1.0 means perfect negative correlation, it's mean that decrease in this feature lead in increase in another feature. i.e if we have features A, B and if feature A leads to decrease in feature B, then they are negatively correlated. If a value -1 that mean negative correlation\n",
    "\n",
    "If the value is 0, there is no correlation between the two variables. This means that the variables changes in a random manner with respect to each other.\n",
    "A value 0.7 to 1 are strong positive correlation or perfectly correlated, so the increase in one leads to increase in the other\n",
    "Generally speaking, a Pearson correlation coefficient value greater than 0.7 indicates the presence of multi-collinearity. So we looking for correlation <0.7. A value -0.7 to -1 also strong negative correlation or negative correlated indicates the presence of multi-collinearity.\n",
    "This means that both the features are containing highly similar information is known as MultiColinearity when both of them contains almost the same information.\n",
    "\n",
    "Also, a correlation near 0 may also be relevant, but it may be different from the correlation."
   ]
  },
  {
   "cell_type": "markdown",
   "id": "99da1c20",
   "metadata": {},
   "source": [
    "Pearson correlation\n",
    "- The Pearson product-moment correlation coefficient (or Pearson correlation coefficient, for short) is a measure of the strength of a linear association between two variables and is denoted by r. Basically, a Pearson product-moment correlation attempts to draw a line of best fit through the data of two variables, and the Pearson correlation coefficient, r, indicates how far away all these data points are to this line of best fit (i.e., how well the data points fit this new model/line of best fit).\n",
    "\n",
    "source:https://statistics.laerd.com/statistical-guides/pearson-correlation-coefficient-statistical-guide.php\n",
    "\n",
    "\n",
    "Kendall correlation\n",
    "- It is a measure of rank correlation: the similarity of the orderings of the data when ranked by each of the quantities.\n",
    "\n",
    "source:https://en.wikipedia.org/wiki/Kendall_rank_correlation_coefficient\n",
    "\n",
    "Spearman correlation\n",
    "- The Spearman's rank-order correlation is the nonparametric version of the Pearson product-moment correlation. Spearman's correlation coefficient, (ρ, also signified by rs) measures the strength and direction of association between two ranked variables.\n",
    "\n",
    "source:https://statistics.laerd.com/statistical-guides/spearmans-rank-order-correlation-statistical-guide.php\n"
   ]
  },
  {
   "cell_type": "code",
   "execution_count": 17,
   "id": "ea0b00be",
   "metadata": {
    "ExecuteTime": {
     "end_time": "2022-06-15T10:34:06.002702Z",
     "start_time": "2022-06-15T10:34:04.890369Z"
    }
   },
   "outputs": [
    {
     "data": {
      "image/png": "[encoded data removed]",
      "text/plain": [
       "<Figure size 1440x2880 with 6 Axes>"
      ]
     },
     "metadata": {
      "needs_background": "light"
     },
     "output_type": "display_data"
    }
   ],
   "source": [
    "def correlation_map(df):\n",
    "    fig, axs = plt.subplots(nrows=3, figsize=(20, 40))\n",
    "    cols = df.corr().index\n",
    "    # Pearson correlation map\n",
    "    pearson = df[cols].corr(method='pearson')\n",
    "    # Kendall correlation map\n",
    "    kendall = df[cols].corr(method='kendall')\n",
    "    # Spearman correlation map\n",
    "    spearman = df[cols].corr(method='spearman')\n",
    "    sns.heatmap(pearson, annot=True, cmap='viridis', ax=axs[0])\n",
    "    sns.heatmap(kendall, annot=True, cmap='viridis', ax=axs[1])\n",
    "    sns.heatmap(spearman, annot=True, cmap='viridis', ax=axs[2])\n",
    "\n",
    "\n",
    "correlation_map(df)"
   ]
  },
  {
   "cell_type": "markdown",
   "id": "80389690",
   "metadata": {},
   "source": [
    "We looking for relation between two variables. \n",
    "So we may observe all type of correlation map"
   ]
  },
  {
   "cell_type": "markdown",
   "id": "18373089",
   "metadata": {},
   "source": [
    "### Box plot for searchin outliers"
   ]
  },
  {
   "cell_type": "markdown",
   "id": "4382e682",
   "metadata": {},
   "source": [
    "Plot boxplots to have a better understanding of the distribution of features. A boxplot is a standardized way of displaying the distribution of data based on a five number summary (“minimum”, first quartile (Q1), median, third quartile (Q3), and “maximum”). It can tell you about your outliers and what their values are. It can also tell you if your data is symmetrical, how tightly your data is grouped, and if and how your data is skewed. [https://towardsdatascience.com/understanding-boxplots-5e2df7bcbd51]\n"
   ]
  },
  {
   "cell_type": "code",
   "execution_count": 18,
   "id": "a75818db",
   "metadata": {
    "ExecuteTime": {
     "end_time": "2022-06-15T10:34:06.008301Z",
     "start_time": "2022-06-15T10:34:06.004225Z"
    }
   },
   "outputs": [
    {
     "data": {
      "text/html": [
       "<img src=\"https://miro.medium.com/max/1400/1*2c21SkzJMf3frPXPAR_gZA.png\" width=\"700\"/>"
      ],
      "text/plain": [
       "<IPython.core.display.Image object>"
      ]
     },
     "execution_count": 18,
     "metadata": {},
     "output_type": "execute_result"
    }
   ],
   "source": [
    "from IPython.display import Image\n",
    "# from [https://towardsdatascience.com/understanding-boxplots-5e2df7bcbd51]\n",
    "Image(url='https://miro.medium.com/max/1400/1*2c21SkzJMf3frPXPAR_gZA.png', width=700)"
   ]
  },
  {
   "cell_type": "markdown",
   "id": "255b7d66",
   "metadata": {
    "run_control": {
     "marked": true
    }
   },
   "source": [
    "- median (Q2/50th Percentile): the middle value of the dataset.\n",
    "\n",
    "- first quartile (Q1/25th Percentile): the middle number between the smallest number (not the “minimum”) and the median of the dataset.\n",
    "\n",
    "- third quartile (Q3/75th Percentile): the middle value between the median and the highest value (not the “maximum”) of the dataset.\n",
    "\n",
    "- interquartile range (IQR): 25th to the 75th percentile.\n",
    "\n",
    "- whiskers (shown in blue)\n",
    "\n",
    "- outliers (shown as green circles)\n",
    "\n",
    "- “maximum”: Q3 + 1.5*IQR\n",
    "\n",
    "- “minimum”: Q1 -1.5*IQR"
   ]
  },
  {
   "cell_type": "code",
   "execution_count": 19,
   "id": "bdb152f2",
   "metadata": {
    "ExecuteTime": {
     "end_time": "2022-06-15T10:34:06.163583Z",
     "start_time": "2022-06-15T10:34:06.009316Z"
    },
    "scrolled": true
   },
   "outputs": [
    {
     "data": {
      "text/plain": [
       "<AxesSubplot:>"
      ]
     },
     "execution_count": 19,
     "metadata": {},
     "output_type": "execute_result"
    },
    {
     "data": {
      "image/png": "[encoded data removed]",
      "text/plain": [
       "<Figure size 720x720 with 1 Axes>"
      ]
     },
     "metadata": {
      "needs_background": "light"
     },
     "output_type": "display_data"
    }
   ],
   "source": [
    "df.boxplot(figsize=(10, 10))"
   ]
  },
  {
   "cell_type": "markdown",
   "id": "5b525d6e",
   "metadata": {},
   "source": [
    "### Detect outliers"
   ]
  },
  {
   "cell_type": "code",
   "execution_count": 20,
   "id": "99afa96c",
   "metadata": {
    "ExecuteTime": {
     "end_time": "2022-06-15T10:34:06.175816Z",
     "start_time": "2022-06-15T10:34:06.165113Z"
    }
   },
   "outputs": [],
   "source": [
    "from collections import Counter\n",
    "numerical_features = df.select_dtypes(include=['int64', 'float64']).columns\n",
    "\n",
    "\n",
    "def detect_outliers(df, features):\n",
    "    outlier_indices = []\n",
    "\n",
    "    for c in features:\n",
    "        # 1st quartile\n",
    "        Q1 = np.percentile(df[c], 25)\n",
    "        # 3rd quartile\n",
    "        Q3 = np.percentile(df[c], 75)\n",
    "        # IQR\n",
    "        IQR = Q3 - Q1\n",
    "        # Outlier step\n",
    "        outlier_step = IQR * 1.5\n",
    "        # detect outlier and their indeces\n",
    "        outlier_list_col = df[(df[c] < Q1 - outlier_step) |\n",
    "                              (df[c] > Q3 + outlier_step)].index\n",
    "        # store indeces\n",
    "        outlier_indices.extend(outlier_list_col)\n",
    "\n",
    "    outlier_indices = Counter(outlier_indices)\n",
    "    multiple_outliers = list(i for i, v in outlier_indices.items() if v > 2)\n",
    "\n",
    "    return multiple_outliers\n",
    "\n",
    "\n",
    "Outliers_to_drop = detect_outliers(df, numerical_features)"
   ]
  },
  {
   "cell_type": "code",
   "execution_count": 21,
   "id": "acef374a",
   "metadata": {
    "ExecuteTime": {
     "end_time": "2022-06-15T10:34:06.184479Z",
     "start_time": "2022-06-15T10:34:06.177345Z"
    }
   },
   "outputs": [
    {
     "data": {
      "text/html": [
       "<div>\n",
       "<style scoped>\n",
       "    .dataframe tbody tr th:only-of-type {\n",
       "        vertical-align: middle;\n",
       "    }\n",
       "\n",
       "    .dataframe tbody tr th {\n",
       "        vertical-align: top;\n",
       "    }\n",
       "\n",
       "    .dataframe thead th {\n",
       "        text-align: right;\n",
       "    }\n",
       "</style>\n",
       "<table border=\"1\" class=\"dataframe\">\n",
       "  <thead>\n",
       "    <tr style=\"text-align: right;\">\n",
       "      <th></th>\n",
       "      <th>PassengerId</th>\n",
       "      <th>HomePlanet</th>\n",
       "      <th>CryoSleep</th>\n",
       "      <th>Cabin</th>\n",
       "      <th>Destination</th>\n",
       "      <th>Age</th>\n",
       "      <th>VIP</th>\n",
       "      <th>RoomService</th>\n",
       "      <th>FoodCourt</th>\n",
       "      <th>ShoppingMall</th>\n",
       "      <th>Spa</th>\n",
       "      <th>VRDeck</th>\n",
       "      <th>Name</th>\n",
       "      <th>Transported</th>\n",
       "    </tr>\n",
       "  </thead>\n",
       "  <tbody>\n",
       "  </tbody>\n",
       "</table>\n",
       "</div>"
      ],
      "text/plain": [
       "Empty DataFrame\n",
       "Columns: [PassengerId, HomePlanet, CryoSleep, Cabin, Destination, Age, VIP, RoomService, FoodCourt, ShoppingMall, Spa, VRDeck, Name, Transported]\n",
       "Index: []"
      ]
     },
     "execution_count": 21,
     "metadata": {},
     "output_type": "execute_result"
    }
   ],
   "source": [
    "# Outlier shape\n",
    "df.loc[Outliers_to_drop]"
   ]
  },
  {
   "cell_type": "markdown",
   "id": "b611caf7",
   "metadata": {},
   "source": [
    "### Drop outliers"
   ]
  },
  {
   "cell_type": "code",
   "execution_count": 22,
   "id": "20e0b3a0",
   "metadata": {
    "ExecuteTime": {
     "end_time": "2022-06-15T10:34:06.190588Z",
     "start_time": "2022-06-15T10:34:06.186006Z"
    }
   },
   "outputs": [],
   "source": [
    "# Need to understand your data to know if outliers should be removed.\n",
    "# Drop outliers\n",
    "df = df.drop(Outliers_to_drop, axis=0).reset_index(drop=True)"
   ]
  },
  {
   "cell_type": "markdown",
   "id": "93ea0e48",
   "metadata": {},
   "source": [
    "hmm IQR method is not that effective here"
   ]
  },
  {
   "cell_type": "markdown",
   "id": "3a5fac11",
   "metadata": {},
   "source": [
    "### check_freq"
   ]
  },
  {
   "cell_type": "code",
   "execution_count": 23,
   "id": "42df8b6a",
   "metadata": {
    "ExecuteTime": {
     "end_time": "2022-06-15T10:34:06.196181Z",
     "start_time": "2022-06-15T10:34:06.192112Z"
    }
   },
   "outputs": [],
   "source": [
    "def check_freq(df=df, percent=0.05):\n",
    "    # show all categorical data and their frequency, you can control percentage of category. Default = 5%\n",
    "    df_object_type = df.select_dtypes(include=['object', 'category'])\n",
    "    for col in df_object_type.columns:\n",
    "        label_freq = df_object_type[col].value_counts() / len(df_object_type)\n",
    "        fig = label_freq.sort_values(ascending=False).plot.bar()\n",
    "        fig.axhline(y=percent, color='red')\n",
    "        fig.set_ylabel(f'Percentage of destination category of {col}')\n",
    "        fig.set_xlabel('Destination')\n",
    "        fig.set_title(f'{col} rare categories')\n",
    "        plt.show()"
   ]
  },
  {
   "cell_type": "code",
   "execution_count": 24,
   "id": "86dcca4b",
   "metadata": {
    "ExecuteTime": {
     "end_time": "2022-06-15T10:34:06.199742Z",
     "start_time": "2022-06-15T10:34:06.197197Z"
    }
   },
   "outputs": [],
   "source": [
    "#check_freq(df = df, percent = 0.05)"
   ]
  },
  {
   "cell_type": "markdown",
   "id": "2b2b7113",
   "metadata": {},
   "source": [
    "# Feature engineering\n",
    "Feature engineering is the process of using domain knowledge to choose and transform the variables that will feed into your machine learning model. The process involves a combination of understanding the problem, data analysis, and applying good judgement. Feature Engineering is as much an art as it is a science.\n",
    "\n",
    "Feature engineering happens prior to modeling, and is an essential part of building a machine learning solution. Appropriate well-designed features are often the deciding factor of the performance of your final algorithm. For this reason, data scientists often spend 70%-80% of their time on the pre-modelling phase, which largely consists of feature engineering.[https://zindi.africa/learn/what-is-feature-engineering-a-tutorial-from-mohamed-salem-jedidi]"
   ]
  },
  {
   "cell_type": "markdown",
   "id": "ced5c349",
   "metadata": {},
   "source": [
    "## Create new columns PasId_group and PasId_number"
   ]
  },
  {
   "cell_type": "code",
   "execution_count": 25,
   "id": "579f5e7e",
   "metadata": {
    "ExecuteTime": {
     "end_time": "2022-06-15T10:34:06.328343Z",
     "start_time": "2022-06-15T10:34:06.201267Z"
    }
   },
   "outputs": [],
   "source": [
    "df[['PasId_group', 'PasId_number']] = df.PassengerId.str.split('_', expand=True)\n",
    "test[['PasId_group', 'PasId_number']] = test.PassengerId.str.split('_', expand=True)"
   ]
  },
  {
   "cell_type": "markdown",
   "id": "aae060be",
   "metadata": {},
   "source": [
    "## Create new columns Cabin_deck, Cabin_num and PasId_number"
   ]
  },
  {
   "cell_type": "code",
   "execution_count": 26,
   "id": "9619b607",
   "metadata": {
    "ExecuteTime": {
     "end_time": "2022-06-15T10:34:06.347233Z",
     "start_time": "2022-06-15T10:34:06.329880Z"
    }
   },
   "outputs": [],
   "source": [
    "df[['Cabin_deck', 'Cabin_num','Cabin_side']] = df.Cabin.str.split('/', expand=True)\n",
    "test[['Cabin_deck', 'Cabin_num','Cabin_side']] = test.Cabin.str.split('/', expand=True)"
   ]
  },
  {
   "cell_type": "markdown",
   "id": "b2be26fb",
   "metadata": {
    "ExecuteTime": {
     "end_time": "2022-06-15T08:54:43.616599Z",
     "start_time": "2022-06-15T08:54:43.613536Z"
    }
   },
   "source": [
    "## Create new columns Age_type"
   ]
  },
  {
   "cell_type": "code",
   "execution_count": 27,
   "id": "1b4180a1",
   "metadata": {
    "ExecuteTime": {
     "end_time": "2022-06-15T10:34:06.354878Z",
     "start_time": "2022-06-15T10:34:06.348258Z"
    }
   },
   "outputs": [],
   "source": [
    "df['CategoricalAge'] =  pd.cut(df.Age, bins=4)"
   ]
  },
  {
   "cell_type": "code",
   "execution_count": 28,
   "id": "3ffb601f",
   "metadata": {
    "ExecuteTime": {
     "end_time": "2022-06-15T10:34:06.360998Z",
     "start_time": "2022-06-15T10:34:06.355904Z"
    }
   },
   "outputs": [],
   "source": [
    "test['CategoricalAge'] =  pd.cut(df.Age, bins=4)"
   ]
  },
  {
   "cell_type": "code",
   "execution_count": 29,
   "id": "c8c4a858",
   "metadata": {
    "ExecuteTime": {
     "end_time": "2022-06-15T10:34:06.373233Z",
     "start_time": "2022-06-15T10:34:06.362013Z"
    }
   },
   "outputs": [],
   "source": [
    "df['PasId_group'] = df['PasId_group'].astype('float64')\n",
    "test['PasId_group'] = test['PasId_group'].astype('float64')\n",
    "\n",
    "df['PasId_number'] = df['PasId_group'].astype('float64')\n",
    "test['PasId_number'] = test['PasId_group'].astype('float64')\n",
    "\n",
    "df['Cabin_num'] = df['Cabin_num'].astype('float64')\n",
    "test['Cabin_num'] = test['Cabin_num'].astype('float64')"
   ]
  },
  {
   "cell_type": "markdown",
   "id": "4e4dc7e8",
   "metadata": {},
   "source": [
    "# Data split"
   ]
  },
  {
   "cell_type": "code",
   "execution_count": 30,
   "id": "ae6d97b9",
   "metadata": {
    "ExecuteTime": {
     "end_time": "2022-06-15T10:34:06.382413Z",
     "start_time": "2022-06-15T10:34:06.374258Z"
    }
   },
   "outputs": [],
   "source": [
    "X = df.copy(deep=True)\n",
    "X = X.drop(['Transported','Name', 'PassengerId'], axis=1)\n",
    "y = df.copy(deep=True)\n",
    "y = y.Transported\n",
    "# I hear boolean type better than the numerical type. Because computer can  understand it better\n",
    "y = y.astype('bool')"
   ]
  },
  {
   "cell_type": "code",
   "execution_count": 31,
   "id": "fef59833",
   "metadata": {
    "ExecuteTime": {
     "end_time": "2022-06-15T10:34:06.391077Z",
     "start_time": "2022-06-15T10:34:06.383948Z"
    }
   },
   "outputs": [],
   "source": [
    "from sklearn.model_selection import StratifiedKFold\n",
    "kf = StratifiedKFold(n_splits=3)\n",
    "\n",
    "train_index, val_index = next(iter(kf.split(X, y)))\n",
    "X_train, X_test = X.iloc[train_index], X.iloc[val_index]\n",
    "y_train, y_test = y.iloc[train_index], y.iloc[val_index]"
   ]
  },
  {
   "cell_type": "code",
   "execution_count": 32,
   "id": "a31b549c",
   "metadata": {
    "ExecuteTime": {
     "end_time": "2022-06-15T10:34:06.396188Z",
     "start_time": "2022-06-15T10:34:06.392102Z"
    }
   },
   "outputs": [
    {
     "data": {
      "text/plain": [
       "((5795, 17), (2898, 17), (5795,), (2898,))"
      ]
     },
     "execution_count": 32,
     "metadata": {},
     "output_type": "execute_result"
    }
   ],
   "source": [
    "X_train.shape, X_test.shape, y_train.shape, y_test.shape"
   ]
  },
  {
   "cell_type": "code",
   "execution_count": 33,
   "id": "8e549690",
   "metadata": {
    "ExecuteTime": {
     "end_time": "2022-06-15T10:34:06.402799Z",
     "start_time": "2022-06-15T10:34:06.397714Z"
    }
   },
   "outputs": [
    {
     "name": "stdout",
     "output_type": "stream",
     "text": [
      "(Class=False, n=2876, 49.628990509059534% )\n",
      "(Class=True, n=2919, 50.371009490940466% )\n"
     ]
    }
   ],
   "source": [
    "# Observe y_train we can see that data is very balanced that good\n",
    "from collections import Counter\n",
    "couter = Counter(y_train)\n",
    "for k, v in couter.items():\n",
    "    dist = v / len(y_train) * 100\n",
    "    print(f'(Class={k}, n={v}, {dist}% )')"
   ]
  },
  {
   "cell_type": "code",
   "execution_count": 34,
   "id": "d244bce1",
   "metadata": {
    "ExecuteTime": {
     "end_time": "2022-06-15T10:34:06.408396Z",
     "start_time": "2022-06-15T10:34:06.404321Z"
    }
   },
   "outputs": [
    {
     "name": "stdout",
     "output_type": "stream",
     "text": [
      "(Class=False, n=1439, 49.65493443754313% )\n",
      "(Class=True, n=1459, 50.34506556245687% )\n"
     ]
    }
   ],
   "source": [
    "# Same here in y_test\n",
    "from collections import Counter\n",
    "couter = Counter(y_test)\n",
    "for k, v in couter.items():\n",
    "    dist = v / len(y_test) * 100\n",
    "    print(f'(Class={k}, n={v}, {dist}% )')"
   ]
  },
  {
   "cell_type": "markdown",
   "id": "039b7966",
   "metadata": {},
   "source": [
    "Good data set very balanced"
   ]
  },
  {
   "cell_type": "markdown",
   "id": "83262ab8",
   "metadata": {},
   "source": [
    "# Initiate classes"
   ]
  },
  {
   "cell_type": "markdown",
   "id": "913b0b83",
   "metadata": {
    "run_control": {
     "marked": true
    }
   },
   "source": [
    "## DataFrameMapper"
   ]
  },
  {
   "cell_type": "code",
   "execution_count": 35,
   "id": "e91d790b",
   "metadata": {
    "ExecuteTime": {
     "end_time": "2022-06-15T10:34:06.421656Z",
     "start_time": "2022-06-15T10:34:06.409924Z"
    }
   },
   "outputs": [],
   "source": [
    "from sklearn.base import BaseEstimator, TransformerMixin\n",
    "from sklearn.utils.validation import check_X_y, check_array, check_is_fitted\n",
    "from sklearn_pandas import DataFrameMapper\n",
    "from sklearn.impute import SimpleImputer\n",
    "from feature_engine.encoding import RareLabelEncoder\n",
    "from feature_engine.encoding import CountFrequencyEncoder\n",
    "from sklearn.experimental import enable_iterative_imputer\n",
    "from sklearn.impute import IterativeImputer\n",
    "\n",
    "class DataFramePreprocessing(TransformerMixin, BaseEstimator):\n",
    "    '''DataFramePreprocessing class fit and transform all feature and return Pandas Dataframe'''\n",
    "    def __init__(self):\n",
    "        pass\n",
    "\n",
    "    # Find all categorical features. Find features with <= 7 unique value\n",
    "    def categorical_features(self):\n",
    "        return [\n",
    "            col for col in X.select_dtypes(include=['object']).columns\n",
    "            if len(X[col].unique()) <= 7\n",
    "        ]\n",
    "\n",
    "    # Find all ordinal features. Find features with > 7 unique value\n",
    "    def ordinal_features(self):\n",
    "        return [\n",
    "            col for col in X.select_dtypes(include=['object']).columns\n",
    "            if len(X[col].unique()) > 7\n",
    "        ]\n",
    "\n",
    "    # Find all numerical features.\n",
    "    def numerical_features(self):\n",
    "        return X.select_dtypes(include=['int64', 'float64']).columns\n",
    "\n",
    "    # Find all boolean features.\n",
    "    def boolean_features(self):\n",
    "        return X.select_dtypes(include=['bool']).columns\n",
    "\n",
    "    # Use SimpleImputer, RareLabelEncoder, and  OneHotEncoder for all categorical features.\n",
    "    # The RareLabelEncoder() groups rare or infrequent categories in\n",
    "    # a new category called \"Rare\", or any other name entered by the user. By default 5%\n",
    "    def cat(self):\n",
    "        return [([c], [\n",
    "            SimpleImputer(strategy='most_frequent'),\n",
    "            RareLabelEncoder(),\n",
    "            OneHotEncoder(sparse=False, handle_unknown='ignore')\n",
    "        ]) for c in self.categorical_features()]\n",
    "\n",
    "    # Use SimpleImputer and OrdinalEncoder for all ordinal features\n",
    "    def ordin(self):\n",
    "        from sklearn.preprocessing import OrdinalEncoder\n",
    "        return [([o], [\n",
    "            SimpleImputer(strategy='most_frequent'),\n",
    "            OrdinalEncoder(handle_unknown=\"use_encoded_value\",\n",
    "                           unknown_value=-999)\n",
    "        ]) for o in self.ordinal_features()]\n",
    "\n",
    "    # Use SimpleImputer and OneHotEncoder for all boolean features\n",
    "    def boolean(self):\n",
    "        return [([b], [\n",
    "            SimpleImputer(strategy='most_frequent'),\n",
    "            OneHotEncoder(sparse=False, handle_unknown='error')\n",
    "        ]) for b in self.boolean_features()]\n",
    "\n",
    "    # Use IterativeImputer some times better than the SimpleImputer and StandardScaler for all numerical features\n",
    "    def num(self):\n",
    "        from sklearn.preprocessing import MinMaxScaler\n",
    "        return [([n], [\n",
    "            IterativeImputer(IsolationForest(n_estimators=100,\n",
    "                            max_samples='auto',\n",
    "                            max_features=1.0,\n",
    "                            bootstrap=False,\n",
    "                            n_jobs=-1,\n",
    "                            random_state=0,\n",
    "                            verbose=0,\n",
    "                            contamination=0.3\n",
    "                           ),initial_strategy ='median'),\n",
    "            StandardScaler(with_mean=False, with_std=True)\n",
    "        ]) for n in self.numerical_features()]\n",
    "\n",
    "    # Mapper transform all feature and return Pandas DataFrame\n",
    "    def mapper(self):\n",
    "        from sklearn_pandas import DataFrameMapper\n",
    "        return DataFrameMapper(self.num() + self.ordin() + self.cat() +\n",
    "                               self.boolean(),\n",
    "                               df_out=True)\n",
    "\n",
    "    # Fit\n",
    "    def fit(self, X, y=None):\n",
    "        # Standart fitter, recomended use Pandas DataFrame\n",
    "        X = check_array(X, accept_sparse=False)\n",
    "\n",
    "        self.n_features_in_ = X.shape[1]\n",
    "        self.n_features_ = X.shape[1]\n",
    "        self.is_fitted_ = True\n",
    "\n",
    "        return self\n",
    "\n",
    "    # Transform\n",
    "    def transform(self, X):\n",
    "        # Standart transform\n",
    "        check_is_fitted(self, ['is_fitted_'])\n",
    "\n",
    "        X = check_array(X, accept_sparse=True)\n",
    "\n",
    "        if X.shape[1] != self.n_features_:\n",
    "            raise ValueError(\n",
    "                'Shape of input is different from what was seen in `fit`')\n",
    "        return self"
   ]
  },
  {
   "cell_type": "markdown",
   "id": "c77986cb",
   "metadata": {},
   "source": [
    "## outlier_rejection"
   ]
  },
  {
   "cell_type": "code",
   "execution_count": 36,
   "id": "b88b6eb7",
   "metadata": {
    "ExecuteTime": {
     "end_time": "2022-06-15T10:34:06.427278Z",
     "start_time": "2022-06-15T10:34:06.423186Z"
    }
   },
   "outputs": [],
   "source": [
    "#source https://imbalanced-learn.org/stable/auto_examples/applications/plot_outlier_rejections.html\n",
    "from sklearn.ensemble import IsolationForest\n",
    "\n",
    "def outlier_rejection(X, y):\n",
    "    \"\"\"This function for outliers and anomaly\"\"\"\n",
    "    model = IsolationForest(n_estimators=100,\n",
    "                            max_samples='auto',\n",
    "                            max_features=1.0,\n",
    "                            bootstrap=False,\n",
    "                            n_jobs=-1,\n",
    "                            random_state=0,\n",
    "                            verbose=0,\n",
    "                            contamination=0.01\n",
    "                           ) #1% of data that IsolationForest think as outliers\n",
    "    model.fit(X)\n",
    "    y_pred = model.predict(X)\n",
    "    return X[y_pred == 1], y[y_pred == 1]"
   ]
  },
  {
   "cell_type": "markdown",
   "id": "965d31c7",
   "metadata": {},
   "source": [
    "## CustomClassifiere"
   ]
  },
  {
   "cell_type": "code",
   "execution_count": 37,
   "id": "8c5e8c75",
   "metadata": {
    "ExecuteTime": {
     "end_time": "2022-06-15T10:34:06.440025Z",
     "start_time": "2022-06-15T10:34:06.428807Z"
    },
    "run_control": {
     "marked": true
    }
   },
   "outputs": [],
   "source": [
    "from imblearn import FunctionSampler\n",
    "from sklearn.experimental import enable_halving_search_cv\n",
    "from sklearn.base import BaseEstimator, ClassifierMixin\n",
    "from sklearn.utils.validation import check_array, check_is_fitted\n",
    "from imblearn.pipeline import Pipeline\n",
    "from sklearn.model_selection import HalvingGridSearchCV\n",
    "from imblearn.over_sampling import SMOTE\n",
    "from imblearn import FunctionSampler\n",
    "from sklearn.feature_selection import SelectPercentile, f_classif, chi2, f_oneway, mutual_info_classif\n",
    "from sklearn.ensemble import BaggingClassifier\n",
    "from feature_engine.selection import DropCorrelatedFeatures\n",
    "\n",
    "\n",
    "class CustomClassifier(ClassifierMixin, BaseEstimator):\n",
    "    '''CustomClassifier update to outliers and anomaly\n",
    "    Custom Classifier have 1 goal give a good pipeline with hyperparameters tuning.\n",
    "    Hyperparameters to tune as a part of the fit() function and not the constructor.\n",
    "    Template from https://learn-scikit.oneoffcoder.com/customized-estimators.html'''\n",
    "    \n",
    "    param_grid = None\n",
    "\n",
    "    def __init__(self, base_estimator, scaler=None):\n",
    "        # base_estimator model\n",
    "        self.base_estimator = base_estimator\n",
    "        self.scaler = scaler\n",
    "\n",
    "    def set_base_estimator(self, base_estimator):\n",
    "        self.base_estimator = base_estimator\n",
    "        return self\n",
    "\n",
    "    def __get_pipeline(self):\n",
    "        scal = self.scaler\n",
    "        classifier = self.base_estimator\n",
    "        \n",
    "        steps = ([\n",
    "            ('scaler', scal), #My CustomTransformer DataFrame. \n",
    "            ('outliers',FunctionSampler(func=outlier_rejection)), # search anomaly and outliers\n",
    "            ('smote', SMOTE(random_state=0, n_jobs=-1)), #this data is very balanced but SMOTE improves accuracy so why not\n",
    "            ('drop', DropCorrelatedFeatures()), #good stuff find correlated features and drop them. and can be tuned.\n",
    "            #Remember correlated features not always bad.\n",
    "            ('select', SelectPercentile()), # I check all feature selectors from sklearn and this is my favorit\n",
    "            ('model',\n",
    "             BaggingClassifier(\n",
    "                 base_estimator=classifier,\n",
    "                 bootstrap_features=True,\n",
    "                 n_jobs=-1,\n",
    "                 random_state=0,\n",
    "             )),\n",
    "        ])\n",
    "\n",
    "        pipeline = Pipeline(steps=steps)\n",
    "        return pipeline\n",
    "\n",
    "    def __get_model(self):\n",
    "        if self.param_grid is None:\n",
    "            return self.__get_pipeline()\n",
    "        model = HalvingGridSearchCV(\n",
    "            **{\n",
    "                'estimator': self.__get_pipeline(),\n",
    "                'cv': self.cv,\n",
    "                'param_grid': self.param_grid,\n",
    "                'scoring': 'neg_brier_score',\n",
    "                'n_jobs': -1,\n",
    "                'random_state': 0,\n",
    "                'factor': 2,\n",
    "            })\n",
    "        return model\n",
    "\n",
    "    def predict_proba(self, X):\n",
    "        check_is_fitted(self, 'is_fitted_')\n",
    "\n",
    "        return self.model_.predict_proba(X)\n",
    "\n",
    "    def set_param_grid(self, param_grid=None):\n",
    "        self.param_grid = param_grid\n",
    "        return self\n",
    "\n",
    "    def set_cv(self, cv=5):\n",
    "        self.cv = cv\n",
    "        return self\n",
    "\n",
    "    def set_scaler(self, scaler):\n",
    "        self.scaler = scaler\n",
    "        return self.scaler\n",
    "\n",
    "    def fit(self, X, y, *args, **kwargs):\n",
    "        if y is None:\n",
    "            raise ValueError(\n",
    "                'requires y to be passed, but the target y is None')\n",
    "\n",
    "        self.is_fitted_ = True\n",
    "        self.n_features_in_ = X.shape[1]\n",
    "\n",
    "        self.model_ = self.__get_model()\n",
    "\n",
    "        self.model_.fit(X, y)\n",
    "\n",
    "        return self\n",
    "\n",
    "    def predict(self, X):\n",
    "        check_is_fitted(self, 'is_fitted_')\n",
    "        X = check_array(X)\n",
    "\n",
    "        return self.model_.predict(X)"
   ]
  },
  {
   "cell_type": "markdown",
   "id": "4966de01",
   "metadata": {
    "ExecuteTime": {
     "end_time": "2022-06-14T14:37:21.748283Z",
     "start_time": "2022-06-14T14:37:21.745738Z"
    }
   },
   "source": [
    "# Param Grid"
   ]
  },
  {
   "cell_type": "code",
   "execution_count": 38,
   "id": "31c1e0eb",
   "metadata": {
    "ExecuteTime": {
     "end_time": "2022-06-15T10:34:06.444095Z",
     "start_time": "2022-06-15T10:34:06.441549Z"
    }
   },
   "outputs": [],
   "source": [
    "# Here you can use anything that you want to tune\n",
    "# lgbm_param_grid = {\n",
    "#     'select__percentile': np.arange(2, 45, 1),\n",
    "#     'smote__k_neighbors': np.arange(5, 13, 1),\n",
    "#     # Belong to BaggingClassifier\n",
    "#     'model__n_estimators': np.arange(20, 31, 1),\n",
    "#     # Belong to LGBMClassifier\n",
    "#     'model__base_estimator__max_depth': np.arange(5, 13, 1),\n",
    "# }"
   ]
  },
  {
   "cell_type": "code",
   "execution_count": 39,
   "id": "bbf6edc2",
   "metadata": {
    "ExecuteTime": {
     "end_time": "2022-06-15T10:34:06.451723Z",
     "start_time": "2022-06-15T10:34:06.448163Z"
    }
   },
   "outputs": [],
   "source": [
    "lgbm_param_grid = {\n",
    "    #'select__percentile': [46],\n",
    "    'select__percentile': [65],\n",
    "    'smote__k_neighbors': [7],\n",
    "    'drop__threshold':[0.9],\n",
    "    # Belong to BaggingClassifier\n",
    "    'model__n_estimators': [148],\n",
    "    #'model__max_samples': [0.90],\n",
    "    'model__max_samples': [0.12],\n",
    "    #'model__max_features': np.arange(0.1, 0.7, 0.05),\n",
    "    # Belong to LGBMClassifier\n",
    "    #'model__base_estimator__max_depth': [7],\n",
    "    #'model__base_estimator__learning_rate': np.arange(0.01, 0.31, 0.05)\n",
    "}"
   ]
  },
  {
   "cell_type": "code",
   "execution_count": 40,
   "id": "4229f983",
   "metadata": {
    "ExecuteTime": {
     "end_time": "2022-06-15T10:34:06.458349Z",
     "start_time": "2022-06-15T10:34:06.453750Z"
    }
   },
   "outputs": [],
   "source": [
    "from sklearn.metrics import balanced_accuracy_score, accuracy_score, confusion_matrix, classification_report\n",
    "\n",
    "\n",
    "def evaluate(estimator, X_train, y_train, X_test, y_test):\n",
    "\n",
    "    # Accuracy for X_train and y_train\n",
    "    score_train = estimator.score(X_train, y_train)\n",
    "    print(f'(Accuracy for score(X_train,y_train) {score_train})\\n')\n",
    "\n",
    "    # Accuracy for X_test and y_test\n",
    "\n",
    "    score_test = estimator.score(X_test, y_test)\n",
    "    print(f'(Accuracy for score(X_test,y_test) {score_test})\\n')\n",
    "\n",
    "    # Prediction on Testing Data\n",
    "    y_pred = estimator.predict(X_test)\n",
    "\n",
    "    # Accuracy for y_test and y_pred\n",
    "    classifier_accuracy_score = accuracy_score(y_test, y_pred)\n",
    "    print(\"Accuracy Score:\\n\", classifier_accuracy_score, \"\\n\")\n",
    "\n",
    "    # Accuracy for y_test and y_pred\n",
    "    classifier_accuracy_score = balanced_accuracy_score(y_test, y_pred)\n",
    "    print(\"Balanced Accuracy Score:\\n\", classifier_accuracy_score, \"\\n\")\n",
    "\n",
    "    # Confusion Matrix\n",
    "    conf_mtx = confusion_matrix(y_test, y_pred)\n",
    "    print(\"Confusion Matrix:\\n\", conf_mtx, \"\\n\")\n",
    "\n",
    "    # Classification Report\n",
    "    class_rep = classification_report(y_test, y_pred)\n",
    "    print(\"Classification Report:\\n\", class_rep, \"\\n\")"
   ]
  },
  {
   "cell_type": "code",
   "execution_count": 41,
   "id": "f156639a",
   "metadata": {
    "ExecuteTime": {
     "end_time": "2022-06-15T10:34:06.466510Z",
     "start_time": "2022-06-15T10:34:06.459877Z"
    }
   },
   "outputs": [],
   "source": [
    "from sklearn.metrics import precision_recall_curve, roc_curve\n",
    "\n",
    "\n",
    "def visual(estimator, X_test, y_test):\n",
    "    # Precision - Recall Curve\n",
    "    yhat = estimator.predict_proba(X_test)\n",
    "    precision, recall, _ = precision_recall_curve(y_test, yhat[:, 1])\n",
    "    plt.figure(dpi=100, figsize=(15, 6))\n",
    "    plt.subplot(121)\n",
    "    sns.lineplot([0, 1], [1, 0], linestyle='--', label='No Skill')\n",
    "    sns.lineplot(recall, precision, marker='.', label='skill')\n",
    "    plt.title(\"Recall vs Precision Curve\")\n",
    "    plt.xlabel('Recall')\n",
    "    plt.ylabel('Precision')\n",
    "    plt.legend()\n",
    "\n",
    "    # ROC Curve\n",
    "    plt.subplot(122)\n",
    "    sns.lineplot([0, 1], [0, 1], linestyle='--', label='No Skill')\n",
    "    fpr, tpr, _ = roc_curve(y_test, yhat[:, 1])\n",
    "    sns.lineplot(fpr, tpr, marker='.', label='Skill')\n",
    "    plt.title(\"ROC Curve\")\n",
    "    plt.xlabel('False Positive Rate')\n",
    "    plt.ylabel('True Positive Rate')\n",
    "    plt.legend()\n",
    "    plt.show()\n",
    "\n",
    "    # Calibrate curve\n",
    "    plt.subplot()\n",
    "    from sklearn.calibration import calibration_curve\n",
    "    sns.lineplot([0, 1], [0, 1], linestyle='--', label='No Skill')\n",
    "    fop, mpv = calibration_curve(y_test, yhat[:, 1], n_bins=10)\n",
    "    sns.lineplot(fop, mpv, marker='.', label='Skill')\n",
    "    plt.title(\"Calibrate curve\")\n",
    "    plt.legend()\n",
    "    plt.show()"
   ]
  },
  {
   "cell_type": "markdown",
   "id": "b914a380",
   "metadata": {
    "ExecuteTime": {
     "end_time": "2022-06-14T14:38:04.922504Z",
     "start_time": "2022-06-14T14:38:04.917409Z"
    },
    "run_control": {
     "marked": true
    }
   },
   "source": [
    "In the context of binary classification, calibration refers to the process of transforming the output scores from a binary classifier to class probabilities. If we think of the classifier as a “black box” that transforms input data into a score, we can think of calibration as a post-processing step that converts the score into a probability of the observation belonging to class 1.\n",
    "\n",
    "source: https://statisticaloddsandends.wordpress.com/2020/10/07/what-is-calibration/"
   ]
  },
  {
   "cell_type": "code",
   "execution_count": 42,
   "id": "dfb0c3ac",
   "metadata": {
    "ExecuteTime": {
     "end_time": "2022-06-15T10:34:06.473645Z",
     "start_time": "2022-06-15T10:34:06.468546Z"
    }
   },
   "outputs": [
    {
     "data": {
      "text/html": [
       "<img src=\"https://statisticaloddsandends.files.wordpress.com/2020/10/pipeline.png?w=768&h=86\" width=\"700\"/>"
      ],
      "text/plain": [
       "<IPython.core.display.Image object>"
      ]
     },
     "execution_count": 42,
     "metadata": {},
     "output_type": "execute_result"
    }
   ],
   "source": [
    "from IPython.display import Image\n",
    "\n",
    "Image(\n",
    "    url=\n",
    "    'https://statisticaloddsandends.files.wordpress.com/2020/10/pipeline.png?w=768&h=86',\n",
    "    width=700)"
   ]
  },
  {
   "cell_type": "code",
   "execution_count": 43,
   "id": "e19ca3b5",
   "metadata": {
    "ExecuteTime": {
     "end_time": "2022-06-15T10:34:06.479238Z",
     "start_time": "2022-06-15T10:34:06.474661Z"
    }
   },
   "outputs": [],
   "source": [
    "from sklearn.calibration import CalibratedClassifierCV\n",
    "\n",
    "\n",
    "def calibration(estimator, X_train, y_train, method='sigmoid'):\n",
    "    calibration = CalibratedClassifierCV(base_estimator=estimator.model_,\n",
    "                                         n_jobs=-1,\n",
    "                                         cv='prefit',\n",
    "                                         method=method)\n",
    "    calibration.fit(X_train, y_train)\n",
    "    return calibration"
   ]
  },
  {
   "cell_type": "code",
   "execution_count": 44,
   "id": "a1e465ac",
   "metadata": {
    "ExecuteTime": {
     "end_time": "2022-06-15T10:34:06.483813Z",
     "start_time": "2022-06-15T10:34:06.480761Z"
    }
   },
   "outputs": [],
   "source": [
    "def brier_score(estimator, X_test, y_test):\n",
    "    from sklearn.metrics import brier_score_loss\n",
    "    yhat = estimator.predict_proba(X_test)\n",
    "    print(f'brier_score_loss = {brier_score_loss(y_test, yhat[:, 1])}')"
   ]
  },
  {
   "cell_type": "code",
   "execution_count": 45,
   "id": "936ff051",
   "metadata": {
    "ExecuteTime": {
     "end_time": "2022-06-15T10:34:06.489424Z",
     "start_time": "2022-06-15T10:34:06.485337Z"
    }
   },
   "outputs": [],
   "source": [
    "def full_evaluate(estimator, X_train, y_train, X_test, y_test):\n",
    "    evaluate(estimator, X_train, y_train, X_test, y_test)\n",
    "    brier_score(estimator, X_test, y_test)\n",
    "    visual(estimator, X_test, y_test)"
   ]
  },
  {
   "cell_type": "markdown",
   "id": "29324c76",
   "metadata": {
    "ExecuteTime": {
     "end_time": "2022-06-14T14:38:57.747934Z",
     "start_time": "2022-06-14T14:38:57.745384Z"
    }
   },
   "source": [
    "# Modeling"
   ]
  },
  {
   "cell_type": "code",
   "execution_count": 46,
   "id": "3c68665e",
   "metadata": {
    "ExecuteTime": {
     "end_time": "2022-06-15T10:34:06.494515Z",
     "start_time": "2022-06-15T10:34:06.490440Z"
    }
   },
   "outputs": [],
   "source": [
    "def modeling(estimator, param_grid=None):\n",
    "    estimator = CustomClassifier(estimator)\n",
    "    if param_grid == None:\n",
    "        pass\n",
    "    else:\n",
    "        estimator.set_param_grid(param_grid)\n",
    "\n",
    "    estimator.set_scaler(DataFramePreprocessing().mapper())\n",
    "\n",
    "    estimator.set_cv(cv=kf)\n",
    "    return estimator"
   ]
  },
  {
   "cell_type": "code",
   "execution_count": 47,
   "id": "f0d7f8bd",
   "metadata": {
    "ExecuteTime": {
     "end_time": "2022-06-15T10:34:06.500118Z",
     "start_time": "2022-06-15T10:34:06.496040Z"
    }
   },
   "outputs": [],
   "source": [
    "def full_evaluate_fit(estimator):\n",
    "    estimator.fit(X_train, y_train)\n",
    "    try:\n",
    "        print(estimator.model_.best_params_)\n",
    "    except:\n",
    "        pass\n",
    "    cal = calibration(estimator, X_train, y_train, method='isotonic')\n",
    "    cal_sig = calibration(estimator, X_train, y_train)\n",
    "    print('full_evaluate(estimator.model_)')\n",
    "    full_evaluate(estimator.model_, X_train, y_train, X_test, y_test)\n",
    "    print('full_evaluate(cal)')\n",
    "    full_evaluate(cal, X_train, y_train, X_test, y_test)\n",
    "    print('full_evaluate(cal_sig)')\n",
    "    full_evaluate(cal_sig, X_train, y_train, X_test, y_test)\n",
    "    return estimator.model_, cal, cal_sig"
   ]
  },
  {
   "cell_type": "code",
   "execution_count": 48,
   "id": "cd7e259e",
   "metadata": {
    "ExecuteTime": {
     "end_time": "2022-06-15T10:34:06.511798Z",
     "start_time": "2022-06-15T10:34:06.502146Z"
    }
   },
   "outputs": [],
   "source": [
    "estimator = modeling(\n",
    "    LGBMClassifier(\n",
    "        boosting_type='dart',\n",
    "        n_jobs=-1,\n",
    "        random_state=0,\n",
    "        class_weight= 'balanced'\n",
    "    ), lgbm_param_grid)"
   ]
  },
  {
   "cell_type": "code",
   "execution_count": 49,
   "id": "7fbaed27",
   "metadata": {
    "ExecuteTime": {
     "end_time": "2022-06-15T10:34:06.628079Z",
     "start_time": "2022-06-15T10:34:06.513323Z"
    }
   },
   "outputs": [
    {
     "data": {
      "text/html": [
       "<div>\n",
       "<style scoped>\n",
       "    .dataframe tbody tr th:only-of-type {\n",
       "        vertical-align: middle;\n",
       "    }\n",
       "\n",
       "    .dataframe tbody tr th {\n",
       "        vertical-align: top;\n",
       "    }\n",
       "\n",
       "    .dataframe thead th {\n",
       "        text-align: right;\n",
       "    }\n",
       "</style>\n",
       "<table border=\"1\" class=\"dataframe\">\n",
       "  <thead>\n",
       "    <tr style=\"text-align: right;\">\n",
       "      <th></th>\n",
       "      <th>Age</th>\n",
       "      <th>RoomService</th>\n",
       "      <th>FoodCourt</th>\n",
       "      <th>ShoppingMall</th>\n",
       "      <th>Spa</th>\n",
       "      <th>VRDeck</th>\n",
       "      <th>PasId_group</th>\n",
       "      <th>PasId_number</th>\n",
       "      <th>Cabin_num</th>\n",
       "      <th>Cabin</th>\n",
       "      <th>...</th>\n",
       "      <th>HomePlanet_x0_Mars</th>\n",
       "      <th>CryoSleep_x0_False</th>\n",
       "      <th>CryoSleep_x0_True</th>\n",
       "      <th>Destination_x0_55 Cancri e</th>\n",
       "      <th>Destination_x0_PSO J318.5-22</th>\n",
       "      <th>Destination_x0_TRAPPIST-1e</th>\n",
       "      <th>VIP_x0_False</th>\n",
       "      <th>VIP_x0_True</th>\n",
       "      <th>Cabin_side_x0_P</th>\n",
       "      <th>Cabin_side_x0_S</th>\n",
       "    </tr>\n",
       "  </thead>\n",
       "  <tbody>\n",
       "    <tr>\n",
       "      <th>2683</th>\n",
       "      <td>2.757352</td>\n",
       "      <td>3.137405</td>\n",
       "      <td>0.000000</td>\n",
       "      <td>0.035480</td>\n",
       "      <td>0.000000</td>\n",
       "      <td>0.000000</td>\n",
       "      <td>1.607473</td>\n",
       "      <td>1.607473</td>\n",
       "      <td>0.386452</td>\n",
       "      <td>946.0</td>\n",
       "      <td>...</td>\n",
       "      <td>1.0</td>\n",
       "      <td>1.0</td>\n",
       "      <td>0.0</td>\n",
       "      <td>1.0</td>\n",
       "      <td>0.0</td>\n",
       "      <td>0.0</td>\n",
       "      <td>1.0</td>\n",
       "      <td>0.0</td>\n",
       "      <td>0.0</td>\n",
       "      <td>1.0</td>\n",
       "    </tr>\n",
       "    <tr>\n",
       "      <th>2685</th>\n",
       "      <td>2.969456</td>\n",
       "      <td>0.255182</td>\n",
       "      <td>0.425365</td>\n",
       "      <td>0.000000</td>\n",
       "      <td>0.000000</td>\n",
       "      <td>0.018873</td>\n",
       "      <td>1.609151</td>\n",
       "      <td>1.609151</td>\n",
       "      <td>0.908361</td>\n",
       "      <td>3709.0</td>\n",
       "      <td>...</td>\n",
       "      <td>0.0</td>\n",
       "      <td>1.0</td>\n",
       "      <td>0.0</td>\n",
       "      <td>0.0</td>\n",
       "      <td>0.0</td>\n",
       "      <td>1.0</td>\n",
       "      <td>1.0</td>\n",
       "      <td>0.0</td>\n",
       "      <td>0.0</td>\n",
       "      <td>1.0</td>\n",
       "    </tr>\n",
       "    <tr>\n",
       "      <th>2686</th>\n",
       "      <td>2.545248</td>\n",
       "      <td>0.616566</td>\n",
       "      <td>0.025937</td>\n",
       "      <td>0.010798</td>\n",
       "      <td>0.305122</td>\n",
       "      <td>0.000000</td>\n",
       "      <td>1.609711</td>\n",
       "      <td>1.609711</td>\n",
       "      <td>1.179275</td>\n",
       "      <td>2582.0</td>\n",
       "      <td>...</td>\n",
       "      <td>0.0</td>\n",
       "      <td>1.0</td>\n",
       "      <td>0.0</td>\n",
       "      <td>0.0</td>\n",
       "      <td>0.0</td>\n",
       "      <td>1.0</td>\n",
       "      <td>1.0</td>\n",
       "      <td>0.0</td>\n",
       "      <td>1.0</td>\n",
       "      <td>0.0</td>\n",
       "    </tr>\n",
       "    <tr>\n",
       "      <th>2688</th>\n",
       "      <td>2.262442</td>\n",
       "      <td>0.000000</td>\n",
       "      <td>0.000000</td>\n",
       "      <td>0.000000</td>\n",
       "      <td>0.000000</td>\n",
       "      <td>0.000000</td>\n",
       "      <td>1.611389</td>\n",
       "      <td>1.611389</td>\n",
       "      <td>0.932265</td>\n",
       "      <td>3717.0</td>\n",
       "      <td>...</td>\n",
       "      <td>0.0</td>\n",
       "      <td>0.0</td>\n",
       "      <td>1.0</td>\n",
       "      <td>0.0</td>\n",
       "      <td>1.0</td>\n",
       "      <td>0.0</td>\n",
       "      <td>1.0</td>\n",
       "      <td>0.0</td>\n",
       "      <td>1.0</td>\n",
       "      <td>0.0</td>\n",
       "    </tr>\n",
       "    <tr>\n",
       "      <th>2689</th>\n",
       "      <td>0.424208</td>\n",
       "      <td>0.000000</td>\n",
       "      <td>0.000000</td>\n",
       "      <td>0.000000</td>\n",
       "      <td>0.000000</td>\n",
       "      <td>0.000000</td>\n",
       "      <td>1.611949</td>\n",
       "      <td>1.611949</td>\n",
       "      <td>0.910353</td>\n",
       "      <td>3710.0</td>\n",
       "      <td>...</td>\n",
       "      <td>0.0</td>\n",
       "      <td>1.0</td>\n",
       "      <td>0.0</td>\n",
       "      <td>1.0</td>\n",
       "      <td>0.0</td>\n",
       "      <td>0.0</td>\n",
       "      <td>1.0</td>\n",
       "      <td>0.0</td>\n",
       "      <td>0.0</td>\n",
       "      <td>1.0</td>\n",
       "    </tr>\n",
       "    <tr>\n",
       "      <th>...</th>\n",
       "      <td>...</td>\n",
       "      <td>...</td>\n",
       "      <td>...</td>\n",
       "      <td>...</td>\n",
       "      <td>...</td>\n",
       "      <td>...</td>\n",
       "      <td>...</td>\n",
       "      <td>...</td>\n",
       "      <td>...</td>\n",
       "      <td>...</td>\n",
       "      <td>...</td>\n",
       "      <td>...</td>\n",
       "      <td>...</td>\n",
       "      <td>...</td>\n",
       "      <td>...</td>\n",
       "      <td>...</td>\n",
       "      <td>...</td>\n",
       "      <td>...</td>\n",
       "      <td>...</td>\n",
       "      <td>...</td>\n",
       "      <td>...</td>\n",
       "    </tr>\n",
       "    <tr>\n",
       "      <th>8688</th>\n",
       "      <td>2.898754</td>\n",
       "      <td>0.000000</td>\n",
       "      <td>4.421594</td>\n",
       "      <td>0.000000</td>\n",
       "      <td>1.483181</td>\n",
       "      <td>0.060722</td>\n",
       "      <td>5.190016</td>\n",
       "      <td>5.190016</td>\n",
       "      <td>0.195218</td>\n",
       "      <td>99.0</td>\n",
       "      <td>...</td>\n",
       "      <td>0.0</td>\n",
       "      <td>1.0</td>\n",
       "      <td>0.0</td>\n",
       "      <td>1.0</td>\n",
       "      <td>0.0</td>\n",
       "      <td>0.0</td>\n",
       "      <td>0.0</td>\n",
       "      <td>1.0</td>\n",
       "      <td>1.0</td>\n",
       "      <td>0.0</td>\n",
       "    </tr>\n",
       "    <tr>\n",
       "      <th>8689</th>\n",
       "      <td>1.272624</td>\n",
       "      <td>0.000000</td>\n",
       "      <td>0.000000</td>\n",
       "      <td>0.000000</td>\n",
       "      <td>0.000000</td>\n",
       "      <td>0.000000</td>\n",
       "      <td>5.191135</td>\n",
       "      <td>5.191135</td>\n",
       "      <td>2.986036</td>\n",
       "      <td>3701.0</td>\n",
       "      <td>...</td>\n",
       "      <td>0.0</td>\n",
       "      <td>0.0</td>\n",
       "      <td>1.0</td>\n",
       "      <td>0.0</td>\n",
       "      <td>1.0</td>\n",
       "      <td>0.0</td>\n",
       "      <td>1.0</td>\n",
       "      <td>0.0</td>\n",
       "      <td>0.0</td>\n",
       "      <td>1.0</td>\n",
       "    </tr>\n",
       "    <tr>\n",
       "      <th>8690</th>\n",
       "      <td>1.838235</td>\n",
       "      <td>0.000000</td>\n",
       "      <td>0.000000</td>\n",
       "      <td>2.887731</td>\n",
       "      <td>0.000903</td>\n",
       "      <td>0.000000</td>\n",
       "      <td>5.191695</td>\n",
       "      <td>5.191695</td>\n",
       "      <td>2.988028</td>\n",
       "      <td>3703.0</td>\n",
       "      <td>...</td>\n",
       "      <td>0.0</td>\n",
       "      <td>1.0</td>\n",
       "      <td>0.0</td>\n",
       "      <td>0.0</td>\n",
       "      <td>0.0</td>\n",
       "      <td>1.0</td>\n",
       "      <td>1.0</td>\n",
       "      <td>0.0</td>\n",
       "      <td>0.0</td>\n",
       "      <td>1.0</td>\n",
       "    </tr>\n",
       "    <tr>\n",
       "      <th>8691</th>\n",
       "      <td>2.262442</td>\n",
       "      <td>0.000000</td>\n",
       "      <td>0.680195</td>\n",
       "      <td>0.000000</td>\n",
       "      <td>0.318663</td>\n",
       "      <td>2.654545</td>\n",
       "      <td>5.192254</td>\n",
       "      <td>5.192254</td>\n",
       "      <td>1.211148</td>\n",
       "      <td>1464.0</td>\n",
       "      <td>...</td>\n",
       "      <td>0.0</td>\n",
       "      <td>1.0</td>\n",
       "      <td>0.0</td>\n",
       "      <td>1.0</td>\n",
       "      <td>0.0</td>\n",
       "      <td>0.0</td>\n",
       "      <td>1.0</td>\n",
       "      <td>0.0</td>\n",
       "      <td>0.0</td>\n",
       "      <td>1.0</td>\n",
       "    </tr>\n",
       "    <tr>\n",
       "      <th>8692</th>\n",
       "      <td>3.110858</td>\n",
       "      <td>0.185855</td>\n",
       "      <td>3.039805</td>\n",
       "      <td>0.000000</td>\n",
       "      <td>0.000000</td>\n",
       "      <td>0.009847</td>\n",
       "      <td>5.192254</td>\n",
       "      <td>5.192254</td>\n",
       "      <td>1.211148</td>\n",
       "      <td>1464.0</td>\n",
       "      <td>...</td>\n",
       "      <td>0.0</td>\n",
       "      <td>1.0</td>\n",
       "      <td>0.0</td>\n",
       "      <td>0.0</td>\n",
       "      <td>0.0</td>\n",
       "      <td>1.0</td>\n",
       "      <td>1.0</td>\n",
       "      <td>0.0</td>\n",
       "      <td>0.0</td>\n",
       "      <td>1.0</td>\n",
       "    </tr>\n",
       "  </tbody>\n",
       "</table>\n",
       "<p>5795 rows × 23 columns</p>\n",
       "</div>"
      ],
      "text/plain": [
       "           Age  RoomService  FoodCourt  ShoppingMall       Spa    VRDeck  \\\n",
       "2683  2.757352     3.137405   0.000000      0.035480  0.000000  0.000000   \n",
       "2685  2.969456     0.255182   0.425365      0.000000  0.000000  0.018873   \n",
       "2686  2.545248     0.616566   0.025937      0.010798  0.305122  0.000000   \n",
       "2688  2.262442     0.000000   0.000000      0.000000  0.000000  0.000000   \n",
       "2689  0.424208     0.000000   0.000000      0.000000  0.000000  0.000000   \n",
       "...        ...          ...        ...           ...       ...       ...   \n",
       "8688  2.898754     0.000000   4.421594      0.000000  1.483181  0.060722   \n",
       "8689  1.272624     0.000000   0.000000      0.000000  0.000000  0.000000   \n",
       "8690  1.838235     0.000000   0.000000      2.887731  0.000903  0.000000   \n",
       "8691  2.262442     0.000000   0.680195      0.000000  0.318663  2.654545   \n",
       "8692  3.110858     0.185855   3.039805      0.000000  0.000000  0.009847   \n",
       "\n",
       "      PasId_group  PasId_number  Cabin_num   Cabin  ...  HomePlanet_x0_Mars  \\\n",
       "2683     1.607473      1.607473   0.386452   946.0  ...                 1.0   \n",
       "2685     1.609151      1.609151   0.908361  3709.0  ...                 0.0   \n",
       "2686     1.609711      1.609711   1.179275  2582.0  ...                 0.0   \n",
       "2688     1.611389      1.611389   0.932265  3717.0  ...                 0.0   \n",
       "2689     1.611949      1.611949   0.910353  3710.0  ...                 0.0   \n",
       "...           ...           ...        ...     ...  ...                 ...   \n",
       "8688     5.190016      5.190016   0.195218    99.0  ...                 0.0   \n",
       "8689     5.191135      5.191135   2.986036  3701.0  ...                 0.0   \n",
       "8690     5.191695      5.191695   2.988028  3703.0  ...                 0.0   \n",
       "8691     5.192254      5.192254   1.211148  1464.0  ...                 0.0   \n",
       "8692     5.192254      5.192254   1.211148  1464.0  ...                 0.0   \n",
       "\n",
       "      CryoSleep_x0_False  CryoSleep_x0_True  Destination_x0_55 Cancri e  \\\n",
       "2683                 1.0                0.0                         1.0   \n",
       "2685                 1.0                0.0                         0.0   \n",
       "2686                 1.0                0.0                         0.0   \n",
       "2688                 0.0                1.0                         0.0   \n",
       "2689                 1.0                0.0                         1.0   \n",
       "...                  ...                ...                         ...   \n",
       "8688                 1.0                0.0                         1.0   \n",
       "8689                 0.0                1.0                         0.0   \n",
       "8690                 1.0                0.0                         0.0   \n",
       "8691                 1.0                0.0                         1.0   \n",
       "8692                 1.0                0.0                         0.0   \n",
       "\n",
       "      Destination_x0_PSO J318.5-22  Destination_x0_TRAPPIST-1e  VIP_x0_False  \\\n",
       "2683                           0.0                         0.0           1.0   \n",
       "2685                           0.0                         1.0           1.0   \n",
       "2686                           0.0                         1.0           1.0   \n",
       "2688                           1.0                         0.0           1.0   \n",
       "2689                           0.0                         0.0           1.0   \n",
       "...                            ...                         ...           ...   \n",
       "8688                           0.0                         0.0           0.0   \n",
       "8689                           1.0                         0.0           1.0   \n",
       "8690                           0.0                         1.0           1.0   \n",
       "8691                           0.0                         0.0           1.0   \n",
       "8692                           0.0                         1.0           1.0   \n",
       "\n",
       "      VIP_x0_True  Cabin_side_x0_P  Cabin_side_x0_S  \n",
       "2683          0.0              0.0              1.0  \n",
       "2685          0.0              0.0              1.0  \n",
       "2686          0.0              1.0              0.0  \n",
       "2688          0.0              1.0              0.0  \n",
       "2689          0.0              0.0              1.0  \n",
       "...           ...              ...              ...  \n",
       "8688          1.0              1.0              0.0  \n",
       "8689          0.0              0.0              1.0  \n",
       "8690          0.0              0.0              1.0  \n",
       "8691          0.0              0.0              1.0  \n",
       "8692          0.0              0.0              1.0  \n",
       "\n",
       "[5795 rows x 23 columns]"
      ]
     },
     "execution_count": 49,
     "metadata": {},
     "output_type": "execute_result"
    }
   ],
   "source": [
    "mapper = DataFramePreprocessing().mapper()\n",
    "\n",
    "X_train_mapped= mapper.fit_transform(X_train)\n",
    "X_train_mapped"
   ]
  },
  {
   "cell_type": "code",
   "execution_count": 50,
   "id": "28979f35",
   "metadata": {
    "ExecuteTime": {
     "end_time": "2022-06-15T10:34:07.051548Z",
     "start_time": "2022-06-15T10:34:06.629099Z"
    }
   },
   "outputs": [
    {
     "data": {
      "text/plain": [
       "(5737, 23)"
      ]
     },
     "execution_count": 50,
     "metadata": {},
     "output_type": "execute_result"
    }
   ],
   "source": [
    "vf,gf = outlier_rejection(X_train_mapped,y_train)\n",
    "vf.shape"
   ]
  },
  {
   "cell_type": "code",
   "execution_count": 51,
   "id": "72791f94",
   "metadata": {
    "ExecuteTime": {
     "end_time": "2022-06-15T10:34:07.056118Z",
     "start_time": "2022-06-15T10:34:07.053580Z"
    }
   },
   "outputs": [],
   "source": [
    "#raise()"
   ]
  },
  {
   "cell_type": "markdown",
   "id": "3665e2b7",
   "metadata": {},
   "source": [
    "# Evaluate"
   ]
  },
  {
   "cell_type": "code",
   "execution_count": 52,
   "id": "594a56fc",
   "metadata": {
    "ExecuteTime": {
     "end_time": "2022-06-15T10:35:18.312146Z",
     "start_time": "2022-06-15T10:34:07.057642Z"
    },
    "scrolled": true
   },
   "outputs": [
    {
     "name": "stdout",
     "output_type": "stream",
     "text": [
      "{'drop__threshold': 0.9, 'model__max_samples': 0.12, 'model__n_estimators': 148, 'select__percentile': 65, 'smote__k_neighbors': 7}\n",
      "full_evaluate(estimator.model_)\n",
      "(Accuracy for score(X_train,y_train) -0.1258944455930822)\n",
      "\n",
      "(Accuracy for score(X_test,y_test) -0.16452302748063924)\n",
      "\n",
      "Accuracy Score:\n",
      " 0.7401656314699793 \n",
      "\n",
      "Balanced Accuracy Score:\n",
      " 0.7407700686972761 \n",
      "\n",
      "Confusion Matrix:\n",
      " [[1192  247]\n",
      " [ 506  953]] \n",
      "\n",
      "Classification Report:\n",
      "               precision    recall  f1-score   support\n",
      "\n",
      "       False       0.70      0.83      0.76      1439\n",
      "        True       0.79      0.65      0.72      1459\n",
      "\n",
      "    accuracy                           0.74      2898\n",
      "   macro avg       0.75      0.74      0.74      2898\n",
      "weighted avg       0.75      0.74      0.74      2898\n",
      " \n",
      "\n",
      "brier_score_loss = 0.16452302748063924\n"
     ]
    },
    {
     "data": {
      "image/png": "[encoded data removed]",
      "text/plain": [
       "<Figure size 1500x600 with 2 Axes>"
      ]
     },
     "metadata": {
      "needs_background": "light"
     },
     "output_type": "display_data"
    },
    {
     "data": {
      "image/png": "[encoded data removed]",
      "text/plain": [
       "<Figure size 432x288 with 1 Axes>"
      ]
     },
     "metadata": {
      "needs_background": "light"
     },
     "output_type": "display_data"
    },
    {
     "name": "stdout",
     "output_type": "stream",
     "text": [
      "full_evaluate(cal)\n",
      "(Accuracy for score(X_train,y_train) 0.8320966350301985)\n",
      "\n",
      "(Accuracy for score(X_test,y_test) 0.777087646652864)\n",
      "\n",
      "Accuracy Score:\n",
      " 0.777087646652864 \n",
      "\n",
      "Balanced Accuracy Score:\n",
      " 0.7767340906243911 \n",
      "\n",
      "Confusion Matrix:\n",
      " [[1044  395]\n",
      " [ 251 1208]] \n",
      "\n",
      "Classification Report:\n",
      "               precision    recall  f1-score   support\n",
      "\n",
      "       False       0.81      0.73      0.76      1439\n",
      "        True       0.75      0.83      0.79      1459\n",
      "\n",
      "    accuracy                           0.78      2898\n",
      "   macro avg       0.78      0.78      0.78      2898\n",
      "weighted avg       0.78      0.78      0.78      2898\n",
      " \n",
      "\n",
      "brier_score_loss = 0.15643717363792572\n"
     ]
    },
    {
     "data": {
      "image/png": "[encoded data removed]",
      "text/plain": [
       "<Figure size 1500x600 with 2 Axes>"
      ]
     },
     "metadata": {
      "needs_background": "light"
     },
     "output_type": "display_data"
    },
    {
     "data": {
      "image/png": "[encoded data removed]",
      "text/plain": [
       "<Figure size 432x288 with 1 Axes>"
      ]
     },
     "metadata": {
      "needs_background": "light"
     },
     "output_type": "display_data"
    },
    {
     "name": "stdout",
     "output_type": "stream",
     "text": [
      "full_evaluate(cal_sig)\n",
      "(Accuracy for score(X_train,y_train) 0.8277825711820535)\n",
      "\n",
      "(Accuracy for score(X_test,y_test) 0.756383712905452)\n",
      "\n",
      "Accuracy Score:\n",
      " 0.756383712905452 \n",
      "\n",
      "Balanced Accuracy Score:\n",
      " 0.7566912328215133 \n",
      "\n",
      "Confusion Matrix:\n",
      " [[1153  286]\n",
      " [ 420 1039]] \n",
      "\n",
      "Classification Report:\n",
      "               precision    recall  f1-score   support\n",
      "\n",
      "       False       0.73      0.80      0.77      1439\n",
      "        True       0.78      0.71      0.75      1459\n",
      "\n",
      "    accuracy                           0.76      2898\n",
      "   macro avg       0.76      0.76      0.76      2898\n",
      "weighted avg       0.76      0.76      0.76      2898\n",
      " \n",
      "\n",
      "brier_score_loss = 0.1596970003251069\n"
     ]
    },
    {
     "data": {
      "image/png": "[encoded data removed]",
      "text/plain": [
       "<Figure size 1500x600 with 2 Axes>"
      ]
     },
     "metadata": {
      "needs_background": "light"
     },
     "output_type": "display_data"
    },
    {
     "data": {
      "image/png": "[encoded data removed]",
      "text/plain": [
       "<Figure size 432x288 with 1 Axes>"
      ]
     },
     "metadata": {
      "needs_background": "light"
     },
     "output_type": "display_data"
    }
   ],
   "source": [
    "model, model_calib, model_calib_sig = full_evaluate_fit(estimator)"
   ]
  },
  {
   "cell_type": "code",
   "execution_count": 53,
   "id": "fde7ed82",
   "metadata": {
    "ExecuteTime": {
     "end_time": "2022-06-15T10:35:19.892332Z",
     "start_time": "2022-06-15T10:35:18.313670Z"
    },
    "run_control": {
     "marked": true
    }
   },
   "outputs": [],
   "source": [
    "sub = pd.read_csv('sample_submission.csv')\n",
    "y_preds = model_calib.predict(test)\n",
    "sub['Transported'] = y_preds\n",
    "sub.to_csv('submission.csv', index=False)"
   ]
  },
  {
   "cell_type": "code",
   "execution_count": 54,
   "id": "ff626ad0",
   "metadata": {
    "ExecuteTime": {
     "end_time": "2022-06-15T10:35:19.897416Z",
     "start_time": "2022-06-15T10:35:19.893856Z"
    }
   },
   "outputs": [],
   "source": [
    "# model_calib why i always use it? calibration with method='isotonic'. In my experience, almost always better than Sigmoid."
   ]
  },
  {
   "cell_type": "code",
   "execution_count": 55,
   "id": "8d69f5db",
   "metadata": {
    "ExecuteTime": {
     "end_time": "2022-06-15T10:35:19.969825Z",
     "start_time": "2022-06-15T10:35:19.898938Z"
    },
    "scrolled": true
   },
   "outputs": [
    {
     "data": {
      "text/plain": [
       "Text(0.5, 1.0, 'Prediction distribution')"
      ]
     },
     "execution_count": 55,
     "metadata": {},
     "output_type": "execute_result"
    },
    {
     "data": {
      "image/png": "[encoded data removed]",
      "text/plain": [
       "<Figure size 432x432 with 1 Axes>"
      ]
     },
     "metadata": {},
     "output_type": "display_data"
    }
   ],
   "source": [
    "plt.figure(figsize=(6,6))\n",
    "sub['Transported'].value_counts().plot.pie(explode=[0.1,0.1], autopct='%1.1f%%', shadow=True, textprops={'fontsize':16}).set_title(\"Prediction distribution\")"
   ]
  },
  {
   "cell_type": "code",
   "execution_count": 56,
   "id": "54eca6b7",
   "metadata": {
    "ExecuteTime": {
     "end_time": "2022-06-15T10:35:20.980354Z",
     "start_time": "2022-06-15T10:35:19.970845Z"
    }
   },
   "outputs": [],
   "source": [
    "import winsound\n",
    "duration = 1000  # milliseconds\n",
    "freq = 440  # Hz\n",
    "winsound.Beep(freq, duration)"
   ]
  }
 ],
 "metadata": {
  "hide_input": false,
  "kernelspec": {
   "display_name": "Python 3 (ipykernel)",
   "language": "python",
   "name": "python3"
  },
  "language_info": {
   "codemirror_mode": {
    "name": "ipython",
    "version": 3
   },
   "file_extension": ".py",
   "mimetype": "text/x-python",
   "name": "python",
   "nbconvert_exporter": "python",
   "pygments_lexer": "ipython3",
   "version": "3.10.4"
  },
  "toc": {
   "base_numbering": 1,
   "nav_menu": {},
   "number_sections": true,
   "sideBar": true,
   "skip_h1_title": false,
   "title_cell": "Table of Contents",
   "title_sidebar": "Contents",
   "toc_cell": false,
   "toc_position": {
    "height": "calc(100% - 180px)",
    "left": "10px",
    "top": "150px",
    "width": "304.475px"
   },
   "toc_section_display": true,
   "toc_window_display": true
  }
 },
 "nbformat": 4,
 "nbformat_minor": 5
}
